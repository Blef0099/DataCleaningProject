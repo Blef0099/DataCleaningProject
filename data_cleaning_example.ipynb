{
 "cells": [
  {
   "cell_type": "markdown",
   "id": "10914fcd",
   "metadata": {},
   "source": [
    "# Очистка данных на примере датасета о квартирах в Москве"
   ]
  },
  {
   "cell_type": "code",
   "execution_count": 3,
   "id": "d736459f-4c1e-4e3c-a6b2-e41147b3fd60",
   "metadata": {
    "tags": []
   },
   "outputs": [],
   "source": [
    "import numpy as np\n",
    "import pandas as pd\n",
    "import matplotlib.pyplot as plt\n",
    "import seaborn as sns"
   ]
  },
  {
   "cell_type": "markdown",
   "id": "35a13914-88e3-4f8e-8083-d5d5ca24fe4b",
   "metadata": {},
   "source": [
    "### Знакомство с данными"
   ]
  },
  {
   "cell_type": "markdown",
   "id": "5d0f67f4",
   "metadata": {},
   "source": [
    "Подробнее о данных можно узнать [здесь](./README.md)."
   ]
  },
  {
   "cell_type": "code",
   "execution_count": 4,
   "id": "a335aae4-20f0-496f-a3ca-477990729d23",
   "metadata": {
    "tags": []
   },
   "outputs": [
    {
     "name": "stdout",
     "output_type": "stream",
     "text": [
      "Shape of data: (30471, 61)\n"
     ]
    },
    {
     "data": {
      "text/html": [
       "<div>\n",
       "<style scoped>\n",
       "    .dataframe tbody tr th:only-of-type {\n",
       "        vertical-align: middle;\n",
       "    }\n",
       "\n",
       "    .dataframe tbody tr th {\n",
       "        vertical-align: top;\n",
       "    }\n",
       "\n",
       "    .dataframe thead th {\n",
       "        text-align: right;\n",
       "    }\n",
       "</style>\n",
       "<table border=\"1\" class=\"dataframe\">\n",
       "  <thead>\n",
       "    <tr style=\"text-align: right;\">\n",
       "      <th></th>\n",
       "      <th>id</th>\n",
       "      <th>full_sq</th>\n",
       "      <th>life_sq</th>\n",
       "      <th>floor</th>\n",
       "      <th>sub_area</th>\n",
       "      <th>preschool_quota</th>\n",
       "      <th>preschool_education_centers_raion</th>\n",
       "      <th>school_quota</th>\n",
       "      <th>school_education_centers_raion</th>\n",
       "      <th>school_education_centers_top_20_raion</th>\n",
       "      <th>...</th>\n",
       "      <th>office_km</th>\n",
       "      <th>additional_education_km</th>\n",
       "      <th>preschool_km</th>\n",
       "      <th>big_church_km</th>\n",
       "      <th>church_synagogue_km</th>\n",
       "      <th>theater_km</th>\n",
       "      <th>museum_km</th>\n",
       "      <th>ecology</th>\n",
       "      <th>mosque_count_1000</th>\n",
       "      <th>price_doc</th>\n",
       "    </tr>\n",
       "  </thead>\n",
       "  <tbody>\n",
       "    <tr>\n",
       "      <th>0</th>\n",
       "      <td>1</td>\n",
       "      <td>43</td>\n",
       "      <td>27.0</td>\n",
       "      <td>4.0</td>\n",
       "      <td>Bibirevo</td>\n",
       "      <td>5001.0</td>\n",
       "      <td>5</td>\n",
       "      <td>11065.0</td>\n",
       "      <td>5</td>\n",
       "      <td>0</td>\n",
       "      <td>...</td>\n",
       "      <td>0.637189</td>\n",
       "      <td>0.947962</td>\n",
       "      <td>0.177975</td>\n",
       "      <td>0.625783</td>\n",
       "      <td>0.628187</td>\n",
       "      <td>14.053047</td>\n",
       "      <td>7.389498</td>\n",
       "      <td>good</td>\n",
       "      <td>0</td>\n",
       "      <td>5850000</td>\n",
       "    </tr>\n",
       "    <tr>\n",
       "      <th>1</th>\n",
       "      <td>2</td>\n",
       "      <td>34</td>\n",
       "      <td>19.0</td>\n",
       "      <td>3.0</td>\n",
       "      <td>Nagatinskij Zaton</td>\n",
       "      <td>3119.0</td>\n",
       "      <td>5</td>\n",
       "      <td>6237.0</td>\n",
       "      <td>8</td>\n",
       "      <td>0</td>\n",
       "      <td>...</td>\n",
       "      <td>0.688796</td>\n",
       "      <td>1.072315</td>\n",
       "      <td>0.273345</td>\n",
       "      <td>0.967821</td>\n",
       "      <td>0.471447</td>\n",
       "      <td>6.829889</td>\n",
       "      <td>0.709260</td>\n",
       "      <td>excellent</td>\n",
       "      <td>0</td>\n",
       "      <td>6000000</td>\n",
       "    </tr>\n",
       "    <tr>\n",
       "      <th>2</th>\n",
       "      <td>3</td>\n",
       "      <td>43</td>\n",
       "      <td>29.0</td>\n",
       "      <td>2.0</td>\n",
       "      <td>Tekstil'shhiki</td>\n",
       "      <td>1463.0</td>\n",
       "      <td>4</td>\n",
       "      <td>5580.0</td>\n",
       "      <td>7</td>\n",
       "      <td>0</td>\n",
       "      <td>...</td>\n",
       "      <td>1.543049</td>\n",
       "      <td>0.391957</td>\n",
       "      <td>0.158072</td>\n",
       "      <td>3.178751</td>\n",
       "      <td>0.755946</td>\n",
       "      <td>4.273200</td>\n",
       "      <td>3.156423</td>\n",
       "      <td>poor</td>\n",
       "      <td>0</td>\n",
       "      <td>5700000</td>\n",
       "    </tr>\n",
       "    <tr>\n",
       "      <th>3</th>\n",
       "      <td>4</td>\n",
       "      <td>89</td>\n",
       "      <td>50.0</td>\n",
       "      <td>9.0</td>\n",
       "      <td>Mitino</td>\n",
       "      <td>6839.0</td>\n",
       "      <td>9</td>\n",
       "      <td>17063.0</td>\n",
       "      <td>10</td>\n",
       "      <td>0</td>\n",
       "      <td>...</td>\n",
       "      <td>0.934273</td>\n",
       "      <td>0.892674</td>\n",
       "      <td>0.236455</td>\n",
       "      <td>1.031777</td>\n",
       "      <td>1.561505</td>\n",
       "      <td>16.990677</td>\n",
       "      <td>16.041521</td>\n",
       "      <td>good</td>\n",
       "      <td>0</td>\n",
       "      <td>13100000</td>\n",
       "    </tr>\n",
       "    <tr>\n",
       "      <th>4</th>\n",
       "      <td>5</td>\n",
       "      <td>77</td>\n",
       "      <td>77.0</td>\n",
       "      <td>4.0</td>\n",
       "      <td>Basmannoe</td>\n",
       "      <td>3240.0</td>\n",
       "      <td>7</td>\n",
       "      <td>7770.0</td>\n",
       "      <td>9</td>\n",
       "      <td>0</td>\n",
       "      <td>...</td>\n",
       "      <td>0.077901</td>\n",
       "      <td>0.810801</td>\n",
       "      <td>0.376838</td>\n",
       "      <td>0.378756</td>\n",
       "      <td>0.121681</td>\n",
       "      <td>1.112486</td>\n",
       "      <td>1.800125</td>\n",
       "      <td>excellent</td>\n",
       "      <td>0</td>\n",
       "      <td>16331452</td>\n",
       "    </tr>\n",
       "  </tbody>\n",
       "</table>\n",
       "<p>5 rows × 61 columns</p>\n",
       "</div>"
      ],
      "text/plain": [
       "   id  full_sq  life_sq  floor           sub_area  preschool_quota  \\\n",
       "0   1       43     27.0    4.0           Bibirevo           5001.0   \n",
       "1   2       34     19.0    3.0  Nagatinskij Zaton           3119.0   \n",
       "2   3       43     29.0    2.0     Tekstil'shhiki           1463.0   \n",
       "3   4       89     50.0    9.0             Mitino           6839.0   \n",
       "4   5       77     77.0    4.0          Basmannoe           3240.0   \n",
       "\n",
       "   preschool_education_centers_raion  school_quota  \\\n",
       "0                                  5       11065.0   \n",
       "1                                  5        6237.0   \n",
       "2                                  4        5580.0   \n",
       "3                                  9       17063.0   \n",
       "4                                  7        7770.0   \n",
       "\n",
       "   school_education_centers_raion  school_education_centers_top_20_raion  ...  \\\n",
       "0                               5                                      0  ...   \n",
       "1                               8                                      0  ...   \n",
       "2                               7                                      0  ...   \n",
       "3                              10                                      0  ...   \n",
       "4                               9                                      0  ...   \n",
       "\n",
       "   office_km  additional_education_km  preschool_km  big_church_km  \\\n",
       "0   0.637189                 0.947962      0.177975       0.625783   \n",
       "1   0.688796                 1.072315      0.273345       0.967821   \n",
       "2   1.543049                 0.391957      0.158072       3.178751   \n",
       "3   0.934273                 0.892674      0.236455       1.031777   \n",
       "4   0.077901                 0.810801      0.376838       0.378756   \n",
       "\n",
       "   church_synagogue_km  theater_km  museum_km    ecology mosque_count_1000  \\\n",
       "0             0.628187   14.053047   7.389498       good                 0   \n",
       "1             0.471447    6.829889   0.709260  excellent                 0   \n",
       "2             0.755946    4.273200   3.156423       poor                 0   \n",
       "3             1.561505   16.990677  16.041521       good                 0   \n",
       "4             0.121681    1.112486   1.800125  excellent                 0   \n",
       "\n",
       "  price_doc  \n",
       "0   5850000  \n",
       "1   6000000  \n",
       "2   5700000  \n",
       "3  13100000  \n",
       "4  16331452  \n",
       "\n",
       "[5 rows x 61 columns]"
      ]
     },
     "execution_count": 4,
     "metadata": {},
     "output_type": "execute_result"
    }
   ],
   "source": [
    "sber_data = pd.read_csv('data/sber_data.csv')\n",
    "print('Shape of data: {}'.format(sber_data.shape))\n",
    "sber_data.head()"
   ]
  },
  {
   "cell_type": "code",
   "execution_count": 5,
   "id": "ee513d42",
   "metadata": {},
   "outputs": [],
   "source": [
    "#display(sber_data.info());"
   ]
  },
  {
   "cell_type": "markdown",
   "id": "c02b8f38-2b46-4099-9de6-9b64a41e3e85",
   "metadata": {},
   "source": [
    "### Обнаружение пропусков"
   ]
  },
  {
   "cell_type": "code",
   "execution_count": 6,
   "id": "af8e2cb6-2d34-4cd1-972c-df5007f22bed",
   "metadata": {},
   "outputs": [
    {
     "data": {
      "text/html": [
       "<div>\n",
       "<style scoped>\n",
       "    .dataframe tbody tr th:only-of-type {\n",
       "        vertical-align: middle;\n",
       "    }\n",
       "\n",
       "    .dataframe tbody tr th {\n",
       "        vertical-align: top;\n",
       "    }\n",
       "\n",
       "    .dataframe thead th {\n",
       "        text-align: right;\n",
       "    }\n",
       "</style>\n",
       "<table border=\"1\" class=\"dataframe\">\n",
       "  <thead>\n",
       "    <tr style=\"text-align: right;\">\n",
       "      <th></th>\n",
       "      <th>id</th>\n",
       "      <th>full_sq</th>\n",
       "      <th>life_sq</th>\n",
       "      <th>floor</th>\n",
       "      <th>sub_area</th>\n",
       "      <th>preschool_quota</th>\n",
       "      <th>preschool_education_centers_raion</th>\n",
       "      <th>school_quota</th>\n",
       "      <th>school_education_centers_raion</th>\n",
       "      <th>school_education_centers_top_20_raion</th>\n",
       "      <th>...</th>\n",
       "      <th>office_km</th>\n",
       "      <th>additional_education_km</th>\n",
       "      <th>preschool_km</th>\n",
       "      <th>big_church_km</th>\n",
       "      <th>church_synagogue_km</th>\n",
       "      <th>theater_km</th>\n",
       "      <th>museum_km</th>\n",
       "      <th>ecology</th>\n",
       "      <th>mosque_count_1000</th>\n",
       "      <th>price_doc</th>\n",
       "    </tr>\n",
       "  </thead>\n",
       "  <tbody>\n",
       "    <tr>\n",
       "      <th>30466</th>\n",
       "      <td>False</td>\n",
       "      <td>False</td>\n",
       "      <td>False</td>\n",
       "      <td>False</td>\n",
       "      <td>False</td>\n",
       "      <td>False</td>\n",
       "      <td>False</td>\n",
       "      <td>False</td>\n",
       "      <td>False</td>\n",
       "      <td>False</td>\n",
       "      <td>...</td>\n",
       "      <td>False</td>\n",
       "      <td>False</td>\n",
       "      <td>False</td>\n",
       "      <td>False</td>\n",
       "      <td>False</td>\n",
       "      <td>False</td>\n",
       "      <td>False</td>\n",
       "      <td>False</td>\n",
       "      <td>False</td>\n",
       "      <td>False</td>\n",
       "    </tr>\n",
       "    <tr>\n",
       "      <th>30467</th>\n",
       "      <td>False</td>\n",
       "      <td>False</td>\n",
       "      <td>False</td>\n",
       "      <td>False</td>\n",
       "      <td>False</td>\n",
       "      <td>False</td>\n",
       "      <td>False</td>\n",
       "      <td>False</td>\n",
       "      <td>False</td>\n",
       "      <td>False</td>\n",
       "      <td>...</td>\n",
       "      <td>False</td>\n",
       "      <td>False</td>\n",
       "      <td>False</td>\n",
       "      <td>False</td>\n",
       "      <td>False</td>\n",
       "      <td>False</td>\n",
       "      <td>False</td>\n",
       "      <td>False</td>\n",
       "      <td>False</td>\n",
       "      <td>False</td>\n",
       "    </tr>\n",
       "    <tr>\n",
       "      <th>30468</th>\n",
       "      <td>False</td>\n",
       "      <td>False</td>\n",
       "      <td>True</td>\n",
       "      <td>False</td>\n",
       "      <td>False</td>\n",
       "      <td>True</td>\n",
       "      <td>False</td>\n",
       "      <td>True</td>\n",
       "      <td>False</td>\n",
       "      <td>False</td>\n",
       "      <td>...</td>\n",
       "      <td>False</td>\n",
       "      <td>False</td>\n",
       "      <td>False</td>\n",
       "      <td>False</td>\n",
       "      <td>False</td>\n",
       "      <td>False</td>\n",
       "      <td>False</td>\n",
       "      <td>False</td>\n",
       "      <td>False</td>\n",
       "      <td>False</td>\n",
       "    </tr>\n",
       "    <tr>\n",
       "      <th>30469</th>\n",
       "      <td>False</td>\n",
       "      <td>False</td>\n",
       "      <td>False</td>\n",
       "      <td>False</td>\n",
       "      <td>False</td>\n",
       "      <td>False</td>\n",
       "      <td>False</td>\n",
       "      <td>False</td>\n",
       "      <td>False</td>\n",
       "      <td>False</td>\n",
       "      <td>...</td>\n",
       "      <td>False</td>\n",
       "      <td>False</td>\n",
       "      <td>False</td>\n",
       "      <td>False</td>\n",
       "      <td>False</td>\n",
       "      <td>False</td>\n",
       "      <td>False</td>\n",
       "      <td>False</td>\n",
       "      <td>False</td>\n",
       "      <td>False</td>\n",
       "    </tr>\n",
       "    <tr>\n",
       "      <th>30470</th>\n",
       "      <td>False</td>\n",
       "      <td>False</td>\n",
       "      <td>False</td>\n",
       "      <td>False</td>\n",
       "      <td>False</td>\n",
       "      <td>False</td>\n",
       "      <td>False</td>\n",
       "      <td>False</td>\n",
       "      <td>False</td>\n",
       "      <td>False</td>\n",
       "      <td>...</td>\n",
       "      <td>False</td>\n",
       "      <td>False</td>\n",
       "      <td>False</td>\n",
       "      <td>False</td>\n",
       "      <td>False</td>\n",
       "      <td>False</td>\n",
       "      <td>False</td>\n",
       "      <td>False</td>\n",
       "      <td>False</td>\n",
       "      <td>False</td>\n",
       "    </tr>\n",
       "  </tbody>\n",
       "</table>\n",
       "<p>5 rows × 61 columns</p>\n",
       "</div>"
      ],
      "text/plain": [
       "          id  full_sq  life_sq  floor  sub_area  preschool_quota  \\\n",
       "30466  False    False    False  False     False            False   \n",
       "30467  False    False    False  False     False            False   \n",
       "30468  False    False     True  False     False             True   \n",
       "30469  False    False    False  False     False            False   \n",
       "30470  False    False    False  False     False            False   \n",
       "\n",
       "       preschool_education_centers_raion  school_quota  \\\n",
       "30466                              False         False   \n",
       "30467                              False         False   \n",
       "30468                              False          True   \n",
       "30469                              False         False   \n",
       "30470                              False         False   \n",
       "\n",
       "       school_education_centers_raion  school_education_centers_top_20_raion  \\\n",
       "30466                           False                                  False   \n",
       "30467                           False                                  False   \n",
       "30468                           False                                  False   \n",
       "30469                           False                                  False   \n",
       "30470                           False                                  False   \n",
       "\n",
       "       ...  office_km  additional_education_km  preschool_km  big_church_km  \\\n",
       "30466  ...      False                    False         False          False   \n",
       "30467  ...      False                    False         False          False   \n",
       "30468  ...      False                    False         False          False   \n",
       "30469  ...      False                    False         False          False   \n",
       "30470  ...      False                    False         False          False   \n",
       "\n",
       "       church_synagogue_km  theater_km  museum_km  ecology  mosque_count_1000  \\\n",
       "30466                False       False      False    False              False   \n",
       "30467                False       False      False    False              False   \n",
       "30468                False       False      False    False              False   \n",
       "30469                False       False      False    False              False   \n",
       "30470                False       False      False    False              False   \n",
       "\n",
       "       price_doc  \n",
       "30466      False  \n",
       "30467      False  \n",
       "30468      False  \n",
       "30469      False  \n",
       "30470      False  \n",
       "\n",
       "[5 rows x 61 columns]"
      ]
     },
     "metadata": {},
     "output_type": "display_data"
    }
   ],
   "source": [
    "display(sber_data.isnull().tail())"
   ]
  },
  {
   "cell_type": "markdown",
   "id": "b86413b9-805f-4261-8dbd-f7bf61767d18",
   "metadata": {},
   "source": [
    "**1. Список столбцов с пропусками**\n",
    "\n",
    "Первый способ — это вывести на экран названия столбцов, где число пропусков больше 0. "
   ]
  },
  {
   "cell_type": "code",
   "execution_count": 7,
   "id": "1fa35a47-5008-4230-8883-78339b8f6677",
   "metadata": {},
   "outputs": [
    {
     "data": {
      "text/plain": [
       "hospital_beds_raion          47.392603\n",
       "preschool_quota              21.948738\n",
       "school_quota                 21.938893\n",
       "life_sq                      20.947786\n",
       "floor                         0.548062\n",
       "metro_min_walk                0.082045\n",
       "metro_km_walk                 0.082045\n",
       "railroad_station_walk_km      0.082045\n",
       "railroad_station_walk_min     0.082045\n",
       "dtype: float64"
      ]
     },
     "metadata": {},
     "output_type": "display_data"
    }
   ],
   "source": [
    "cols_null_persent = sber_data.isnull().mean() * 100\n",
    "cols_with_null = cols_null_persent[cols_null_persent>0].sort_values(ascending=False)\n",
    "display(cols_with_null)"
   ]
  },
  {
   "cell_type": "markdown",
   "id": "54fdb86e",
   "metadata": {},
   "source": [
    "Итак, можно увидеть, что у нас большое число пропусков (более 47 %) в столбце hospital_beds_raion (количество больничных коек в округе). \n",
    "\n",
    "Далее у нас идут столбцы с числом пропусков чуть больше 20 %: \n",
    "\n",
    "* preschool_quota (число мест в детском саду в районе);\n",
    "* school_quota (число мест в школах в районе);\n",
    "* life_sq (жилая площадь здания в квадратных метрах). \n",
    "\n",
    "Менее одного процента пропусков содержат признаки:\n",
    "\n",
    "* floor (число этажей в доме);\n",
    "* metro_min_walk (время от дома до ближайшего метро пешком в минутах);\n",
    "* metro_km_walk (расстояние до ближайшего метро в километрах);\n",
    "* railroad_station_walk_km (расстояние до ближайшей ж. д. станции в километрах);\n",
    "* railroad_station_walk_min (время до ближайшей ж. д. станции пешком в минутах). "
   ]
  },
  {
   "cell_type": "markdown",
   "id": "b5012889-66b1-44d8-be05-b8573d89862b",
   "metadata": {},
   "source": [
    "**2. Столбчатая диаграмма пропусков**\n",
    "\n",
    "Иногда столбцов с пропусками становится слишком много и прочитать информацию о них из списка признаков с цифрами становится слишком затруднительно — цифры начинают сливаться воедино. \n",
    "\n",
    "Можно воспользоваться столбчатой диаграммой, чтобы визуально оценить соотношение числа пропусков к числу записей."
   ]
  },
  {
   "cell_type": "code",
   "execution_count": 8,
   "id": "e255b245-f764-4c49-935a-362e562ba61c",
   "metadata": {},
   "outputs": [
    {
     "data": {
      "image/png": "[encoded data removed]",
      "text/plain": [
       "<Figure size 720x288 with 1 Axes>"
      ]
     },
     "metadata": {
      "needs_background": "light"
     },
     "output_type": "display_data"
    }
   ],
   "source": [
    "cols_with_null.plot(\n",
    "    kind='bar',\n",
    "    figsize=(10, 4),\n",
    "    title='Распределение пропусков в данных'\n",
    ");"
   ]
  },
  {
   "cell_type": "markdown",
   "id": "f9ffdb03-2062-4934-9824-bf22e217cf14",
   "metadata": {},
   "source": [
    "**3. Тепловая карта пропусков**\n",
    "\n",
    "Ещё один распространённый способ визуализации пропусков — тепловая карта. \n",
    "\n",
    "Её часто используют, когда столбцов с пропусками не так много (меньше 10). Она позволяет понять не только соотношение пропусков в данных, но и их характерное местоположение в таблице. "
   ]
  },
  {
   "cell_type": "code",
   "execution_count": 9,
   "id": "0d5f9438-c3e5-48c5-9a16-7b3ce7c402a2",
   "metadata": {
    "tags": []
   },
   "outputs": [
    {
     "data": {
      "image/png": "[encoded data removed]",
      "text/plain": [
       "<Figure size 720x288 with 2 Axes>"
      ]
     },
     "metadata": {
      "needs_background": "light"
     },
     "output_type": "display_data"
    }
   ],
   "source": [
    "colors = ['blue', 'yellow'] \n",
    "fig = plt.figure(figsize=(10, 4))\n",
    "cols = cols_with_null.index\n",
    "ax = sns.heatmap(\n",
    "    sber_data[cols].isnull(),\n",
    "    cmap=sns.color_palette(colors),\n",
    ")"
   ]
  },
  {
   "cell_type": "markdown",
   "id": "133b2d9a",
   "metadata": {},
   "source": [
    "На полученной тепловой карте мы не видим чётких процентных соотношений для числа пропусков в данных, однако мы можем увидеть места их концентрации в таблице. Например, видно, что признаки preschool_quota и school_quota очень сильно связаны друг с другом по части пропусков: во всех записях, где хотя бы один не определён, не указан и второй (жёлтые линии для двух этих признаков полностью совпадают друг с другом)."
   ]
  },
  {
   "cell_type": "markdown",
   "id": "df4c91db",
   "metadata": {},
   "source": [
    "### Методы обработки пропусков"
   ]
  },
  {
   "cell_type": "markdown",
   "id": "00b74c2b",
   "metadata": {},
   "source": [
    "**1. Отбрасывание записей и признаков**\n",
    "\n",
    "Первая техника самая простая из всех, она предполагает простое удаление записей или признаков, в которых содержатся пропуски. Здесь важно правильно выбрать ось удаления: если мы избавимся от большого числа строк, то мы рискуем потерять важные данные, а если мы удалим столбцы, то мы можем потерять важные признаки.\n",
    "\n",
    "<img src= https://raw.githubusercontent.com/AndreyRysistov/DatasetsForPandas/main/drop_na.jpg>"
   ]
  },
  {
   "cell_type": "code",
   "execution_count": 10,
   "id": "ac65348b-b0bc-43a7-86cd-5eae3dff4319",
   "metadata": {},
   "outputs": [
    {
     "data": {
      "text/plain": [
       "id                                       0.0\n",
       "full_sq                                  0.0\n",
       "life_sq                                  0.0\n",
       "floor                                    0.0\n",
       "sub_area                                 0.0\n",
       "preschool_quota                          0.0\n",
       "preschool_education_centers_raion        0.0\n",
       "school_quota                             0.0\n",
       "school_education_centers_raion           0.0\n",
       "school_education_centers_top_20_raion    0.0\n",
       "healthcare_centers_raion                 0.0\n",
       "university_top_20_raion                  0.0\n",
       "sport_objects_raion                      0.0\n",
       "additional_education_raion               0.0\n",
       "culture_objects_top_25_raion             0.0\n",
       "shopping_centers_raion                   0.0\n",
       "office_raion                             0.0\n",
       "oil_chemistry_raion                      0.0\n",
       "railroad_terminal_raion                  0.0\n",
       "nuclear_reactor_raion                    0.0\n",
       "metro_min_avto                           0.0\n",
       "metro_km_avto                            0.0\n",
       "metro_min_walk                           0.0\n",
       "metro_km_walk                            0.0\n",
       "kindergarten_km                          0.0\n",
       "school_km                                0.0\n",
       "park_km                                  0.0\n",
       "green_zone_km                            0.0\n",
       "industrial_km                            0.0\n",
       "railroad_station_walk_km                 0.0\n",
       "railroad_station_walk_min                0.0\n",
       "public_transport_station_km              0.0\n",
       "public_transport_station_min_walk        0.0\n",
       "mkad_km                                  0.0\n",
       "ttk_km                                   0.0\n",
       "sadovoe_km                               0.0\n",
       "bulvar_ring_km                           0.0\n",
       "kremlin_km                               0.0\n",
       "big_road1_1line                          0.0\n",
       "big_market_km                            0.0\n",
       "market_shop_km                           0.0\n",
       "fitness_km                               0.0\n",
       "swim_pool_km                             0.0\n",
       "ice_rink_km                              0.0\n",
       "stadium_km                               0.0\n",
       "basketball_km                            0.0\n",
       "hospice_morgue_km                        0.0\n",
       "university_km                            0.0\n",
       "workplaces_km                            0.0\n",
       "shopping_centers_km                      0.0\n",
       "office_km                                0.0\n",
       "additional_education_km                  0.0\n",
       "preschool_km                             0.0\n",
       "big_church_km                            0.0\n",
       "church_synagogue_km                      0.0\n",
       "theater_km                               0.0\n",
       "museum_km                                0.0\n",
       "ecology                                  0.0\n",
       "mosque_count_1000                        0.0\n",
       "price_doc                                0.0\n",
       "dtype: float64"
      ]
     },
     "execution_count": 10,
     "metadata": {},
     "output_type": "execute_result"
    }
   ],
   "source": [
    "#создаем копию исходной таблицы\n",
    "drop_data = sber_data.copy()\n",
    "#задаем минимальный порог: вычисляем 70% от числа строк\n",
    "thresh = drop_data.shape[0]*0.7\n",
    "#удаляем столбцы, в которых более 30% (100-70) пропусков\n",
    "drop_data = drop_data.dropna(thresh=thresh, axis=1)\n",
    "#удаляем записи, в которых есть хотя бы 1 пропуск\n",
    "drop_data = drop_data.dropna(axis=0)\n",
    "#отображаем результирующую долю пропусков\n",
    "drop_data.isnull().mean()"
   ]
  },
  {
   "cell_type": "code",
   "execution_count": 11,
   "id": "7e985b96-8d97-405b-87a4-cbb12432c712",
   "metadata": {},
   "outputs": [
    {
     "data": {
      "text/plain": [
       "(20888, 60)"
      ]
     },
     "execution_count": 11,
     "metadata": {},
     "output_type": "execute_result"
    }
   ],
   "source": [
    "drop_data.shape"
   ]
  },
  {
   "cell_type": "markdown",
   "id": "802d85ba",
   "metadata": {},
   "source": [
    "Итак, мы удалили один столбец и ⅓ всех записей для того, чтобы избавиться от пропусков. Не слишком ли это много и что с этим можно сделать?"
   ]
  },
  {
   "cell_type": "markdown",
   "id": "08dbdc43-5647-4866-92d0-fa9f664a99d5",
   "metadata": {},
   "source": [
    "**2. Заполнение недостающих значений**"
   ]
  },
  {
   "cell_type": "markdown",
   "id": "ddb9f33b",
   "metadata": {},
   "source": [
    "Другой способ бороться с пропусками - заполнить их константами. Чаще всего пустые места заполняют средним/медианой/модой для числовых признаков и модальным значением для категориальных признаков.\n",
    "\n",
    "Недостаток данного метода - искажение истинных распределений признаков\n",
    "<img src = https://raw.githubusercontent.com/AndreyRysistov/DatasetsForPandas/main/fill_na.jpg>"
   ]
  },
  {
   "cell_type": "markdown",
   "id": "c63d8e59",
   "metadata": {},
   "source": [
    "Рассмотрим распределения признаков до заполнения"
   ]
  },
  {
   "cell_type": "code",
   "execution_count": 12,
   "id": "e777f146-9f29-40be-ba06-93b997c0523c",
   "metadata": {},
   "outputs": [
    {
     "data": {
      "image/png": "[encoded data removed]",
      "text/plain": [
       "<Figure size 1440x576 with 9 Axes>"
      ]
     },
     "metadata": {
      "needs_background": "light"
     },
     "output_type": "display_data"
    }
   ],
   "source": [
    "cols = cols_with_null.index\n",
    "sber_data[cols].hist(figsize=(20, 8));"
   ]
  },
  {
   "cell_type": "code",
   "execution_count": 13,
   "id": "0c4c6493-5c3c-47f5-8616-a0fba5eea942",
   "metadata": {},
   "outputs": [
    {
     "data": {
      "text/plain": [
       "id                   0.0\n",
       "full_sq              0.0\n",
       "life_sq              0.0\n",
       "floor                0.0\n",
       "sub_area             0.0\n",
       "                    ... \n",
       "theater_km           0.0\n",
       "museum_km            0.0\n",
       "ecology              0.0\n",
       "mosque_count_1000    0.0\n",
       "price_doc            0.0\n",
       "Length: 61, dtype: float64"
      ]
     },
     "execution_count": 13,
     "metadata": {},
     "output_type": "execute_result"
    }
   ],
   "source": [
    "#создаем копию исходной таблицы\n",
    "fill_data = sber_data.copy()\n",
    "#создаем словарь имя столбца: число(признак) на который надо заменить пропуски\n",
    "values = {\n",
    "    'life_sq': fill_data['full_sq'],\n",
    "    'metro_min_walk': fill_data['metro_min_walk'].median(),\n",
    "    'metro_km_walk': fill_data['metro_km_walk'].median(),\n",
    "    'railroad_station_walk_km': fill_data['railroad_station_walk_km'].median(),\n",
    "    'railroad_station_walk_min': fill_data['railroad_station_walk_min'].median(),\n",
    "    'hospital_beds_raion': fill_data['hospital_beds_raion'].mode()[0],\n",
    "    'preschool_quota': fill_data['preschool_quota'].mode()[0],\n",
    "    'school_quota': fill_data['school_quota'].mode()[0],\n",
    "    'floor': fill_data['floor'].mode()[0]\n",
    "}\n",
    "#заполняем пропуски в соответствии с заявленным словарем\n",
    "fill_data = fill_data.fillna(values)\n",
    "#выводим результирующую долю пропусков\n",
    "fill_data.isnull().mean()"
   ]
  },
  {
   "cell_type": "markdown",
   "id": "6b29f83a",
   "metadata": {},
   "source": [
    "Рассмотрим распределения признаков после заполнения пропусков константами"
   ]
  },
  {
   "cell_type": "code",
   "execution_count": 14,
   "id": "947f1523-1258-454f-a9f4-13e2d02a6847",
   "metadata": {},
   "outputs": [
    {
     "data": {
      "image/png": "[encoded data removed]",
      "text/plain": [
       "<Figure size 1440x576 with 9 Axes>"
      ]
     },
     "metadata": {
      "needs_background": "light"
     },
     "output_type": "display_data"
    }
   ],
   "source": [
    "cols = cols_with_null.index\n",
    "fill_data[cols].hist(figsize=(20, 8));"
   ]
  },
  {
   "cell_type": "markdown",
   "id": "c82340a2",
   "metadata": {},
   "source": [
    "Обратим внимание на то, как сильно изменилось распределение для признака hospital_beds_raion. Это связано с тем, что мы заполнили модальным значением почти 47 % общих данных. В результате мы кардинально исказили исходное распределение признака, что может плохо сказаться на модели."
   ]
  },
  {
   "cell_type": "markdown",
   "id": "25d21025-bfe2-40bc-9a3d-f1a0a39393ed",
   "metadata": {},
   "source": [
    "**3. Заполнение недостающих значений с добавлением признака-индикатора**\n",
    "\n",
    "Если мы используем заполнение пропусков константами, то может имеет смысл сказать модели о том, что на этом месте был пропуск? Давайте добавим к нашим данным признаки-индикаторы, которые будут сигнализировать о том, что в столбце на определенном месте в таблице был пропуск, это место в столбце- индикаторе будем помечать как True. Эта эвристика пытается снизить влияние искажения признака, указав модели на места, где мы \"нафантазировали\" данные.\n",
    "\n",
    "<img src=https://raw.githubusercontent.com/AndreyRysistov/DatasetsForPandas/main/indicator_na.jpg>"
   ]
  },
  {
   "cell_type": "code",
   "execution_count": 15,
   "id": "9fa32fff-abc5-47cb-9f65-c9bc02df8eb4",
   "metadata": {},
   "outputs": [
    {
     "data": {
      "text/plain": [
       "id                                    0.0\n",
       "full_sq                               0.0\n",
       "life_sq                               0.0\n",
       "floor                                 0.0\n",
       "sub_area                              0.0\n",
       "                                     ... \n",
       "floor_was_null                        0.0\n",
       "metro_min_walk_was_null               0.0\n",
       "metro_km_walk_was_null                0.0\n",
       "railroad_station_walk_km_was_null     0.0\n",
       "railroad_station_walk_min_was_null    0.0\n",
       "Length: 70, dtype: float64"
      ]
     },
     "execution_count": 15,
     "metadata": {},
     "output_type": "execute_result"
    }
   ],
   "source": [
    "#создаем копию исходной таблицы\n",
    "indicator_data = sber_data.copy()\n",
    "#в цикле пробегаемся по названиям столбцов с пропусками\n",
    "for col in cols_with_null.index:\n",
    "    #создаем новый признак-индикатор как col_was_null\n",
    "    indicator_data[col + '_was_null'] = indicator_data[col].isnull()\n",
    "#создаем словарь имя столбца: число(признак) на который надо заменить пропуски   \n",
    "values = {\n",
    "    'life_sq': indicator_data['full_sq'],\n",
    "    'metro_min_walk': indicator_data['metro_min_walk'].median(),\n",
    "    'metro_km_walk': indicator_data['metro_km_walk'].median(),\n",
    "    'railroad_station_walk_km': indicator_data['railroad_station_walk_km'].median(),\n",
    "    'railroad_station_walk_min': indicator_data['railroad_station_walk_min'].median(),\n",
    "    'hospital_beds_raion': indicator_data['hospital_beds_raion'].mode()[0],\n",
    "    'preschool_quota': indicator_data['preschool_quota'].mode()[0],\n",
    "    'school_quota': indicator_data['school_quota'].mode()[0],\n",
    "    'floor': indicator_data['floor'].mode()[0]\n",
    "}\n",
    "#заполняем пропуски в соответствии с заявленным словарем\n",
    "indicator_data = indicator_data.fillna(values)\n",
    "#выводим результирующую долю пропусков\n",
    "indicator_data.isnull().mean()"
   ]
  },
  {
   "cell_type": "markdown",
   "id": "46c4ccae",
   "metadata": {},
   "source": [
    "Метод исходит из предположения, что, если дать модели информацию о том, что в ячейке ранее была пустота, то она будет меньше доверять таким записям и меньше учитывать её в процессе обучения. Иногда такие фишки действительно работают, иногда не дают эффекта, а иногда и вовсе могут ухудшить результат обучения и затруднить процесс обучения."
   ]
  },
  {
   "cell_type": "code",
   "execution_count": 16,
   "id": "489ba777-cebe-44a9-b26e-9174a204029e",
   "metadata": {},
   "outputs": [
    {
     "data": {
      "text/html": [
       "<div>\n",
       "<style scoped>\n",
       "    .dataframe tbody tr th:only-of-type {\n",
       "        vertical-align: middle;\n",
       "    }\n",
       "\n",
       "    .dataframe tbody tr th {\n",
       "        vertical-align: top;\n",
       "    }\n",
       "\n",
       "    .dataframe thead th {\n",
       "        text-align: right;\n",
       "    }\n",
       "</style>\n",
       "<table border=\"1\" class=\"dataframe\">\n",
       "  <thead>\n",
       "    <tr style=\"text-align: right;\">\n",
       "      <th></th>\n",
       "      <th>id</th>\n",
       "      <th>full_sq</th>\n",
       "      <th>life_sq</th>\n",
       "      <th>floor</th>\n",
       "      <th>sub_area</th>\n",
       "      <th>preschool_quota</th>\n",
       "      <th>preschool_education_centers_raion</th>\n",
       "      <th>school_quota</th>\n",
       "      <th>school_education_centers_raion</th>\n",
       "      <th>school_education_centers_top_20_raion</th>\n",
       "      <th>...</th>\n",
       "      <th>price_doc</th>\n",
       "      <th>hospital_beds_raion_was_null</th>\n",
       "      <th>preschool_quota_was_null</th>\n",
       "      <th>school_quota_was_null</th>\n",
       "      <th>life_sq_was_null</th>\n",
       "      <th>floor_was_null</th>\n",
       "      <th>metro_min_walk_was_null</th>\n",
       "      <th>metro_km_walk_was_null</th>\n",
       "      <th>railroad_station_walk_km_was_null</th>\n",
       "      <th>railroad_station_walk_min_was_null</th>\n",
       "    </tr>\n",
       "  </thead>\n",
       "  <tbody>\n",
       "    <tr>\n",
       "      <th>0</th>\n",
       "      <td>1</td>\n",
       "      <td>43</td>\n",
       "      <td>27.0</td>\n",
       "      <td>4.0</td>\n",
       "      <td>Bibirevo</td>\n",
       "      <td>5001.0</td>\n",
       "      <td>5</td>\n",
       "      <td>11065.0</td>\n",
       "      <td>5</td>\n",
       "      <td>0</td>\n",
       "      <td>...</td>\n",
       "      <td>5850000</td>\n",
       "      <td>False</td>\n",
       "      <td>False</td>\n",
       "      <td>False</td>\n",
       "      <td>False</td>\n",
       "      <td>False</td>\n",
       "      <td>False</td>\n",
       "      <td>False</td>\n",
       "      <td>False</td>\n",
       "      <td>False</td>\n",
       "    </tr>\n",
       "    <tr>\n",
       "      <th>1</th>\n",
       "      <td>2</td>\n",
       "      <td>34</td>\n",
       "      <td>19.0</td>\n",
       "      <td>3.0</td>\n",
       "      <td>Nagatinskij Zaton</td>\n",
       "      <td>3119.0</td>\n",
       "      <td>5</td>\n",
       "      <td>6237.0</td>\n",
       "      <td>8</td>\n",
       "      <td>0</td>\n",
       "      <td>...</td>\n",
       "      <td>6000000</td>\n",
       "      <td>False</td>\n",
       "      <td>False</td>\n",
       "      <td>False</td>\n",
       "      <td>False</td>\n",
       "      <td>False</td>\n",
       "      <td>False</td>\n",
       "      <td>False</td>\n",
       "      <td>False</td>\n",
       "      <td>False</td>\n",
       "    </tr>\n",
       "    <tr>\n",
       "      <th>2</th>\n",
       "      <td>3</td>\n",
       "      <td>43</td>\n",
       "      <td>29.0</td>\n",
       "      <td>2.0</td>\n",
       "      <td>Tekstil'shhiki</td>\n",
       "      <td>1463.0</td>\n",
       "      <td>4</td>\n",
       "      <td>5580.0</td>\n",
       "      <td>7</td>\n",
       "      <td>0</td>\n",
       "      <td>...</td>\n",
       "      <td>5700000</td>\n",
       "      <td>False</td>\n",
       "      <td>False</td>\n",
       "      <td>False</td>\n",
       "      <td>False</td>\n",
       "      <td>False</td>\n",
       "      <td>False</td>\n",
       "      <td>False</td>\n",
       "      <td>False</td>\n",
       "      <td>False</td>\n",
       "    </tr>\n",
       "    <tr>\n",
       "      <th>3</th>\n",
       "      <td>4</td>\n",
       "      <td>89</td>\n",
       "      <td>50.0</td>\n",
       "      <td>9.0</td>\n",
       "      <td>Mitino</td>\n",
       "      <td>6839.0</td>\n",
       "      <td>9</td>\n",
       "      <td>17063.0</td>\n",
       "      <td>10</td>\n",
       "      <td>0</td>\n",
       "      <td>...</td>\n",
       "      <td>13100000</td>\n",
       "      <td>True</td>\n",
       "      <td>False</td>\n",
       "      <td>False</td>\n",
       "      <td>False</td>\n",
       "      <td>False</td>\n",
       "      <td>False</td>\n",
       "      <td>False</td>\n",
       "      <td>False</td>\n",
       "      <td>False</td>\n",
       "    </tr>\n",
       "    <tr>\n",
       "      <th>4</th>\n",
       "      <td>5</td>\n",
       "      <td>77</td>\n",
       "      <td>77.0</td>\n",
       "      <td>4.0</td>\n",
       "      <td>Basmannoe</td>\n",
       "      <td>3240.0</td>\n",
       "      <td>7</td>\n",
       "      <td>7770.0</td>\n",
       "      <td>9</td>\n",
       "      <td>0</td>\n",
       "      <td>...</td>\n",
       "      <td>16331452</td>\n",
       "      <td>False</td>\n",
       "      <td>False</td>\n",
       "      <td>False</td>\n",
       "      <td>False</td>\n",
       "      <td>False</td>\n",
       "      <td>False</td>\n",
       "      <td>False</td>\n",
       "      <td>False</td>\n",
       "      <td>False</td>\n",
       "    </tr>\n",
       "  </tbody>\n",
       "</table>\n",
       "<p>5 rows × 70 columns</p>\n",
       "</div>"
      ],
      "text/plain": [
       "   id  full_sq  life_sq  floor           sub_area  preschool_quota  \\\n",
       "0   1       43     27.0    4.0           Bibirevo           5001.0   \n",
       "1   2       34     19.0    3.0  Nagatinskij Zaton           3119.0   \n",
       "2   3       43     29.0    2.0     Tekstil'shhiki           1463.0   \n",
       "3   4       89     50.0    9.0             Mitino           6839.0   \n",
       "4   5       77     77.0    4.0          Basmannoe           3240.0   \n",
       "\n",
       "   preschool_education_centers_raion  school_quota  \\\n",
       "0                                  5       11065.0   \n",
       "1                                  5        6237.0   \n",
       "2                                  4        5580.0   \n",
       "3                                  9       17063.0   \n",
       "4                                  7        7770.0   \n",
       "\n",
       "   school_education_centers_raion  school_education_centers_top_20_raion  ...  \\\n",
       "0                               5                                      0  ...   \n",
       "1                               8                                      0  ...   \n",
       "2                               7                                      0  ...   \n",
       "3                              10                                      0  ...   \n",
       "4                               9                                      0  ...   \n",
       "\n",
       "   price_doc  hospital_beds_raion_was_null  preschool_quota_was_null  \\\n",
       "0    5850000                         False                     False   \n",
       "1    6000000                         False                     False   \n",
       "2    5700000                         False                     False   \n",
       "3   13100000                          True                     False   \n",
       "4   16331452                         False                     False   \n",
       "\n",
       "   school_quota_was_null  life_sq_was_null  floor_was_null  \\\n",
       "0                  False             False           False   \n",
       "1                  False             False           False   \n",
       "2                  False             False           False   \n",
       "3                  False             False           False   \n",
       "4                  False             False           False   \n",
       "\n",
       "   metro_min_walk_was_null  metro_km_walk_was_null  \\\n",
       "0                    False                   False   \n",
       "1                    False                   False   \n",
       "2                    False                   False   \n",
       "3                    False                   False   \n",
       "4                    False                   False   \n",
       "\n",
       "  railroad_station_walk_km_was_null railroad_station_walk_min_was_null  \n",
       "0                             False                              False  \n",
       "1                             False                              False  \n",
       "2                             False                              False  \n",
       "3                             False                              False  \n",
       "4                             False                              False  \n",
       "\n",
       "[5 rows x 70 columns]"
      ]
     },
     "metadata": {},
     "output_type": "display_data"
    }
   ],
   "source": [
    "display(indicator_data.head())"
   ]
  },
  {
   "cell_type": "markdown",
   "id": "7a87d37b-9863-43ba-880f-36c43077553b",
   "metadata": {},
   "source": [
    "**4. Комбинирование методов**"
   ]
  },
  {
   "cell_type": "markdown",
   "id": "ec900231",
   "metadata": {},
   "source": [
    "Методы можно комбинировать. Например, мы можем:\n",
    "\n",
    "* удалить столбцы, в которых более 30 % пропусков;\n",
    "* удалить записи, в которых более двух пропусков одновременно;\n",
    "* заполнить оставшиеся ячейки константами."
   ]
  },
  {
   "cell_type": "code",
   "execution_count": 17,
   "id": "a1c8c825-1066-4b9c-b1ec-409fa649aff6",
   "metadata": {},
   "outputs": [
    {
     "data": {
      "text/plain": [
       "id                                       0.0\n",
       "full_sq                                  0.0\n",
       "life_sq                                  0.0\n",
       "floor                                    0.0\n",
       "sub_area                                 0.0\n",
       "preschool_quota                          0.0\n",
       "preschool_education_centers_raion        0.0\n",
       "school_quota                             0.0\n",
       "school_education_centers_raion           0.0\n",
       "school_education_centers_top_20_raion    0.0\n",
       "healthcare_centers_raion                 0.0\n",
       "university_top_20_raion                  0.0\n",
       "sport_objects_raion                      0.0\n",
       "additional_education_raion               0.0\n",
       "culture_objects_top_25_raion             0.0\n",
       "shopping_centers_raion                   0.0\n",
       "office_raion                             0.0\n",
       "oil_chemistry_raion                      0.0\n",
       "railroad_terminal_raion                  0.0\n",
       "nuclear_reactor_raion                    0.0\n",
       "metro_min_avto                           0.0\n",
       "metro_km_avto                            0.0\n",
       "metro_min_walk                           0.0\n",
       "metro_km_walk                            0.0\n",
       "kindergarten_km                          0.0\n",
       "school_km                                0.0\n",
       "park_km                                  0.0\n",
       "green_zone_km                            0.0\n",
       "industrial_km                            0.0\n",
       "railroad_station_walk_km                 0.0\n",
       "railroad_station_walk_min                0.0\n",
       "public_transport_station_km              0.0\n",
       "public_transport_station_min_walk        0.0\n",
       "mkad_km                                  0.0\n",
       "ttk_km                                   0.0\n",
       "sadovoe_km                               0.0\n",
       "bulvar_ring_km                           0.0\n",
       "kremlin_km                               0.0\n",
       "big_road1_1line                          0.0\n",
       "big_market_km                            0.0\n",
       "market_shop_km                           0.0\n",
       "fitness_km                               0.0\n",
       "swim_pool_km                             0.0\n",
       "ice_rink_km                              0.0\n",
       "stadium_km                               0.0\n",
       "basketball_km                            0.0\n",
       "hospice_morgue_km                        0.0\n",
       "university_km                            0.0\n",
       "workplaces_km                            0.0\n",
       "shopping_centers_km                      0.0\n",
       "office_km                                0.0\n",
       "additional_education_km                  0.0\n",
       "preschool_km                             0.0\n",
       "big_church_km                            0.0\n",
       "church_synagogue_km                      0.0\n",
       "theater_km                               0.0\n",
       "museum_km                                0.0\n",
       "ecology                                  0.0\n",
       "mosque_count_1000                        0.0\n",
       "price_doc                                0.0\n",
       "dtype: float64"
      ]
     },
     "metadata": {},
     "output_type": "display_data"
    }
   ],
   "source": [
    "#создаем копию исходной таблицы\n",
    "combine_data = sber_data.copy()\n",
    "\n",
    "#отбрасываем столбцы с числом пропусков более 30% (100-70)\n",
    "n = combine_data.shape[0] #число строк в таблице\n",
    "thresh = n*0.7\n",
    "combine_data = combine_data.dropna(thresh=thresh, axis=1)\n",
    "\n",
    "#отбрасываем строки с числом пропусков более 2 в строке\n",
    "m = combine_data.shape[1] #число признаков после удаления столбцов\n",
    "combine_data = combine_data.dropna(thresh=m-2, axis=0)\n",
    "\n",
    "#создаем словарь имя столбца: число(признак) на который надо заменить пропуски \n",
    "values = {\n",
    "    'life_sq': combine_data['full_sq'],\n",
    "    'metro_min_walk': combine_data['metro_min_walk'].median(),\n",
    "    'metro_km_walk': combine_data['metro_km_walk'].median(),\n",
    "    'railroad_station_walk_km': combine_data['railroad_station_walk_km'].median(),\n",
    "    'railroad_station_walk_min': combine_data['railroad_station_walk_min'].median(),\n",
    "    'preschool_quota': combine_data['preschool_quota'].mode()[0],\n",
    "    'school_quota': combine_data['school_quota'].mode()[0],\n",
    "    'floor': combine_data['floor'].mode()[0]\n",
    "}\n",
    "#заполняем оставшиеся записи константами в соответствии со словарем values\n",
    "combine_data = combine_data.fillna(values)\n",
    "#выводим результирующую долю пропусков\n",
    "display(combine_data.isnull().mean())"
   ]
  },
  {
   "cell_type": "code",
   "execution_count": 18,
   "id": "f800ee52-1afb-4c21-bbd5-1f87b17fe2ec",
   "metadata": {},
   "outputs": [
    {
     "name": "stdout",
     "output_type": "stream",
     "text": [
      "(26800, 60)\n"
     ]
    }
   ],
   "source": [
    "print(combine_data.shape)"
   ]
  },
  {
   "cell_type": "markdown",
   "id": "c9ac6435-0980-4457-b159-5e1efd333404",
   "metadata": {},
   "source": [
    "### Методы выявления выбросов"
   ]
  },
  {
   "cell_type": "markdown",
   "id": "7fda25a4-248c-4831-ba1b-596fcd059c71",
   "metadata": {},
   "source": [
    "**1. Использование статистики и здравого смысла**\n",
    "\n",
    "Это самый трудоёмкий метод, основанный на житейской логике, методе пристального взгляда и небольшом количестве статистики. Он предполагает поиск невозможных и нелогичных значений в данных.\n",
    "\n",
    "Пусть у нас есть признак, по которому мы будем искать выбросы. Давайте рассчитаем его статистические показатели (минимум, максимум, среднее, квантили) и по ним попробуем определить наличие выбросов."
   ]
  },
  {
   "cell_type": "code",
   "execution_count": 19,
   "id": "5b9528d7-f5f5-4ba7-abde-6294013ebc2e",
   "metadata": {},
   "outputs": [
    {
     "data": {
      "text/plain": [
       "count    24088.000000\n",
       "mean        34.403271\n",
       "std         52.285733\n",
       "min          0.000000\n",
       "25%         20.000000\n",
       "50%         30.000000\n",
       "75%         43.000000\n",
       "max       7478.000000\n",
       "Name: life_sq, dtype: float64"
      ]
     },
     "execution_count": 19,
     "metadata": {},
     "output_type": "execute_result"
    }
   ],
   "source": [
    "sber_data['life_sq'].describe()"
   ]
  },
  {
   "cell_type": "markdown",
   "id": "34eb11b0",
   "metadata": {},
   "source": [
    "Что нам говорит метод describe()? Во-первых, у нас есть квартиры с нулевой жилой площадью. Во-вторых, в то время как 75-й квантиль равен 43, максимум превышает 7 тысяч квадратных метров (целый дворец, а не квартира!). "
   ]
  },
  {
   "cell_type": "code",
   "execution_count": 20,
   "id": "abe6d837-ca18-40ff-a03b-839f54d6d664",
   "metadata": {},
   "outputs": [
    {
     "name": "stdout",
     "output_type": "stream",
     "text": [
      "45\n"
     ]
    }
   ],
   "source": [
    "print(sber_data[sber_data['life_sq'] == 0].shape[0])"
   ]
  },
  {
   "cell_type": "markdown",
   "id": "580ea58d",
   "metadata": {},
   "source": [
    "Таких помещений оказывается 45 штук. Что это за зверь?\n",
    "\n",
    "Это могут быть апартаменты — вид коммерческой недвижимости, которая юридически не является жилой площадью, но законно продаётся по ценам, сопоставимым с квартирными. Оставим их в покое.    "
   ]
  },
  {
   "cell_type": "markdown",
   "id": "978ece7a",
   "metadata": {},
   "source": [
    "А теперь выведем здания с жилой площадью более 1 000 квадратных метров:"
   ]
  },
  {
   "cell_type": "code",
   "execution_count": 21,
   "id": "2042b152-4dd9-4b06-91bb-ff5cfe5bb226",
   "metadata": {},
   "outputs": [
    {
     "data": {
      "text/html": [
       "<div>\n",
       "<style scoped>\n",
       "    .dataframe tbody tr th:only-of-type {\n",
       "        vertical-align: middle;\n",
       "    }\n",
       "\n",
       "    .dataframe tbody tr th {\n",
       "        vertical-align: top;\n",
       "    }\n",
       "\n",
       "    .dataframe thead th {\n",
       "        text-align: right;\n",
       "    }\n",
       "</style>\n",
       "<table border=\"1\" class=\"dataframe\">\n",
       "  <thead>\n",
       "    <tr style=\"text-align: right;\">\n",
       "      <th></th>\n",
       "      <th>id</th>\n",
       "      <th>full_sq</th>\n",
       "      <th>life_sq</th>\n",
       "      <th>floor</th>\n",
       "      <th>sub_area</th>\n",
       "      <th>preschool_quota</th>\n",
       "      <th>preschool_education_centers_raion</th>\n",
       "      <th>school_quota</th>\n",
       "      <th>school_education_centers_raion</th>\n",
       "      <th>school_education_centers_top_20_raion</th>\n",
       "      <th>...</th>\n",
       "      <th>office_km</th>\n",
       "      <th>additional_education_km</th>\n",
       "      <th>preschool_km</th>\n",
       "      <th>big_church_km</th>\n",
       "      <th>church_synagogue_km</th>\n",
       "      <th>theater_km</th>\n",
       "      <th>museum_km</th>\n",
       "      <th>ecology</th>\n",
       "      <th>mosque_count_1000</th>\n",
       "      <th>price_doc</th>\n",
       "    </tr>\n",
       "  </thead>\n",
       "  <tbody>\n",
       "    <tr>\n",
       "      <th>13546</th>\n",
       "      <td>13549</td>\n",
       "      <td>79</td>\n",
       "      <td>7478.0</td>\n",
       "      <td>8.0</td>\n",
       "      <td>Poselenie Voskresenskoe</td>\n",
       "      <td>NaN</td>\n",
       "      <td>0</td>\n",
       "      <td>NaN</td>\n",
       "      <td>0</td>\n",
       "      <td>0</td>\n",
       "      <td>...</td>\n",
       "      <td>5.072389</td>\n",
       "      <td>1.210613</td>\n",
       "      <td>0.826052</td>\n",
       "      <td>1.582378</td>\n",
       "      <td>0.756119</td>\n",
       "      <td>21.472421</td>\n",
       "      <td>14.917332</td>\n",
       "      <td>no data</td>\n",
       "      <td>0</td>\n",
       "      <td>7705000</td>\n",
       "    </tr>\n",
       "  </tbody>\n",
       "</table>\n",
       "<p>1 rows × 61 columns</p>\n",
       "</div>"
      ],
      "text/plain": [
       "          id  full_sq  life_sq  floor                 sub_area  \\\n",
       "13546  13549       79   7478.0    8.0  Poselenie Voskresenskoe   \n",
       "\n",
       "       preschool_quota  preschool_education_centers_raion  school_quota  \\\n",
       "13546              NaN                                  0           NaN   \n",
       "\n",
       "       school_education_centers_raion  school_education_centers_top_20_raion  \\\n",
       "13546                               0                                      0   \n",
       "\n",
       "       ...  office_km  additional_education_km  preschool_km  big_church_km  \\\n",
       "13546  ...   5.072389                 1.210613      0.826052       1.582378   \n",
       "\n",
       "       church_synagogue_km  theater_km  museum_km  ecology mosque_count_1000  \\\n",
       "13546             0.756119   21.472421  14.917332  no data                 0   \n",
       "\n",
       "      price_doc  \n",
       "13546   7705000  \n",
       "\n",
       "[1 rows x 61 columns]"
      ]
     },
     "metadata": {},
     "output_type": "display_data"
    }
   ],
   "source": [
    "display(sber_data[sber_data['life_sq'] > 1000])"
   ]
  },
  {
   "cell_type": "markdown",
   "id": "a595a3d5",
   "metadata": {},
   "source": [
    "Выброс налицо: гигантская жилая площадь (life_sq), да ещё почти в 100 раз превышает общую площадь (full_sq).\n",
    "\n",
    "Логичен вопрос: а много ли у нас таких квартир, у которых жилая площадь больше, чем суммарная?\n",
    "\n",
    "Давайте проверим это с помощью фильтрации:"
   ]
  },
  {
   "cell_type": "code",
   "execution_count": 22,
   "id": "55a32550-064c-40e4-9c58-0e98e4ade4b2",
   "metadata": {},
   "outputs": [
    {
     "name": "stdout",
     "output_type": "stream",
     "text": [
      "37\n"
     ]
    }
   ],
   "source": [
    "outliers = sber_data[sber_data['life_sq'] > sber_data['full_sq']]\n",
    "print(outliers.shape[0])"
   ]
  },
  {
   "cell_type": "markdown",
   "id": "cb9e9b20",
   "metadata": {},
   "source": [
    "Таких квартир оказывается 37 штук. Подобные наблюдения уже не поддаются здравому смыслу — они являются ошибочными, и от них стоит избавиться:"
   ]
  },
  {
   "cell_type": "code",
   "execution_count": 23,
   "id": "f25fc651-e08e-4b7b-ba54-ecacc195a36a",
   "metadata": {},
   "outputs": [
    {
     "name": "stdout",
     "output_type": "stream",
     "text": [
      "Результирующее число записей: 30434\n"
     ]
    }
   ],
   "source": [
    "cleaned = sber_data.drop(outliers.index, axis=0)\n",
    "print(f'Результирующее число записей: {cleaned.shape[0]}')"
   ]
  },
  {
   "cell_type": "markdown",
   "id": "c8d36f20",
   "metadata": {},
   "source": [
    "Ещё пример: давайте посмотрим на признак числа этажей (floor)."
   ]
  },
  {
   "cell_type": "code",
   "execution_count": 24,
   "id": "2708e8c0-fd8c-40db-8d56-849eb7d3bbac",
   "metadata": {},
   "outputs": [
    {
     "data": {
      "text/plain": [
       "count    30304.000000\n",
       "mean         7.670803\n",
       "std          5.319989\n",
       "min          0.000000\n",
       "25%          3.000000\n",
       "50%          6.500000\n",
       "75%         11.000000\n",
       "max         77.000000\n",
       "Name: floor, dtype: float64"
      ]
     },
     "metadata": {},
     "output_type": "display_data"
    }
   ],
   "source": [
    "display(sber_data['floor'].describe())"
   ]
  },
  {
   "cell_type": "markdown",
   "id": "d6c3d874",
   "metadata": {},
   "source": [
    "Снова видим подозрительную максимальную отметку в 77 этажей. Проверим все квартиры, которые находятся выше 50 этажей:"
   ]
  },
  {
   "cell_type": "code",
   "execution_count": 25,
   "id": "f978a422-e827-4643-ab5e-5d89643871c7",
   "metadata": {},
   "outputs": [
    {
     "data": {
      "text/html": [
       "<div>\n",
       "<style scoped>\n",
       "    .dataframe tbody tr th:only-of-type {\n",
       "        vertical-align: middle;\n",
       "    }\n",
       "\n",
       "    .dataframe tbody tr th {\n",
       "        vertical-align: top;\n",
       "    }\n",
       "\n",
       "    .dataframe thead th {\n",
       "        text-align: right;\n",
       "    }\n",
       "</style>\n",
       "<table border=\"1\" class=\"dataframe\">\n",
       "  <thead>\n",
       "    <tr style=\"text-align: right;\">\n",
       "      <th></th>\n",
       "      <th>id</th>\n",
       "      <th>full_sq</th>\n",
       "      <th>life_sq</th>\n",
       "      <th>floor</th>\n",
       "      <th>sub_area</th>\n",
       "      <th>preschool_quota</th>\n",
       "      <th>preschool_education_centers_raion</th>\n",
       "      <th>school_quota</th>\n",
       "      <th>school_education_centers_raion</th>\n",
       "      <th>school_education_centers_top_20_raion</th>\n",
       "      <th>...</th>\n",
       "      <th>office_km</th>\n",
       "      <th>additional_education_km</th>\n",
       "      <th>preschool_km</th>\n",
       "      <th>big_church_km</th>\n",
       "      <th>church_synagogue_km</th>\n",
       "      <th>theater_km</th>\n",
       "      <th>museum_km</th>\n",
       "      <th>ecology</th>\n",
       "      <th>mosque_count_1000</th>\n",
       "      <th>price_doc</th>\n",
       "    </tr>\n",
       "  </thead>\n",
       "  <tbody>\n",
       "    <tr>\n",
       "      <th>23584</th>\n",
       "      <td>23587</td>\n",
       "      <td>57</td>\n",
       "      <td>33.0</td>\n",
       "      <td>77.0</td>\n",
       "      <td>Lomonosovskoe</td>\n",
       "      <td>3091.0</td>\n",
       "      <td>5</td>\n",
       "      <td>8359.0</td>\n",
       "      <td>7</td>\n",
       "      <td>1</td>\n",
       "      <td>...</td>\n",
       "      <td>0.310557</td>\n",
       "      <td>0.731683</td>\n",
       "      <td>0.489763</td>\n",
       "      <td>0.86354</td>\n",
       "      <td>0.863266</td>\n",
       "      <td>2.920671</td>\n",
       "      <td>2.757058</td>\n",
       "      <td>satisfactory</td>\n",
       "      <td>0</td>\n",
       "      <td>13700000</td>\n",
       "    </tr>\n",
       "  </tbody>\n",
       "</table>\n",
       "<p>1 rows × 61 columns</p>\n",
       "</div>"
      ],
      "text/plain": [
       "          id  full_sq  life_sq  floor       sub_area  preschool_quota  \\\n",
       "23584  23587       57     33.0   77.0  Lomonosovskoe           3091.0   \n",
       "\n",
       "       preschool_education_centers_raion  school_quota  \\\n",
       "23584                                  5        8359.0   \n",
       "\n",
       "       school_education_centers_raion  school_education_centers_top_20_raion  \\\n",
       "23584                               7                                      1   \n",
       "\n",
       "       ...  office_km  additional_education_km  preschool_km  big_church_km  \\\n",
       "23584  ...   0.310557                 0.731683      0.489763        0.86354   \n",
       "\n",
       "       church_synagogue_km  theater_km  museum_km       ecology  \\\n",
       "23584             0.863266    2.920671   2.757058  satisfactory   \n",
       "\n",
       "      mosque_count_1000 price_doc  \n",
       "23584                 0  13700000  \n",
       "\n",
       "[1 rows x 61 columns]"
      ]
     },
     "execution_count": 25,
     "metadata": {},
     "output_type": "execute_result"
    }
   ],
   "source": [
    "sber_data[sber_data['floor']> 50]"
   ]
  },
  {
   "cell_type": "markdown",
   "id": "89c46668",
   "metadata": {},
   "source": [
    "Всего одна квартира в Ломоносовском районе. Пора идти в интернет в поиске самых высоких зданий в Москве! \n",
    "\n",
    "Убеждаемся в том, что здания выше 70 этажей находятся на территории комплекса Москва-Сити (Пресненский район). В Ломоносовском районе таких жилых высоток нет. Получается, что данное наблюдение — выброс."
   ]
  },
  {
   "cell_type": "markdown",
   "id": "92a98cd2-1e85-4063-92e2-fb9eee803412",
   "metadata": {},
   "source": [
    "**2. Метод межквартильного размаха**"
   ]
  },
  {
   "cell_type": "markdown",
   "id": "d7351abe",
   "metadata": {},
   "source": [
    "Данный метод относится к категории статистических и реализован в виде отдельной python-функции в дирректории find_outliers в файле find_outliers.py.\n",
    "\n",
    "Подробнее о методе можно в файле [README.md](./find_outliers/README.md)"
   ]
  },
  {
   "cell_type": "code",
   "execution_count": 26,
   "id": "d1176bdc",
   "metadata": {},
   "outputs": [],
   "source": [
    "from outliers_lib.find_outliers import find_outliers_iqr"
   ]
  },
  {
   "cell_type": "markdown",
   "id": "a81dfd94",
   "metadata": {},
   "source": [
    "На гистограмме мы можем увидеть потенциальные выбросы как низкие далеко отстоящие от основной группы столбцов «пеньки», а на коробчатой диаграмме — точки за пределами усов.\n",
    "\n",
    "Построим гистограмму и коробчатую диаграмму для признака полной площади (full_sq):"
   ]
  },
  {
   "cell_type": "code",
   "execution_count": 27,
   "id": "9b8c8709-2ec5-4972-9dd1-9d8abe8d1ba6",
   "metadata": {},
   "outputs": [
    {
     "ename": "StopIteration",
     "evalue": "",
     "output_type": "error",
     "traceback": [
      "\u001b[1;31m---------------------------------------------------------------------------\u001b[0m",
      "\u001b[1;31mStopIteration\u001b[0m                             Traceback (most recent call last)",
      "\u001b[1;32mc:\\SkillBox\\IDE\\DataCleaningProject\\data_cleaning_example.ipynb Ячейка 59\u001b[0m in \u001b[0;36m<cell line: 2>\u001b[1;34m()\u001b[0m\n\u001b[0;32m      <a href='vscode-notebook-cell:/c%3A/SkillBox/IDE/DataCleaningProject/data_cleaning_example.ipynb#Y112sZmlsZQ%3D%3D?line=0'>1</a>\u001b[0m fig, axes \u001b[39m=\u001b[39m plt\u001b[39m.\u001b[39msubplots(nrows\u001b[39m=\u001b[39m\u001b[39m1\u001b[39m, ncols\u001b[39m=\u001b[39m\u001b[39m2\u001b[39m, figsize\u001b[39m=\u001b[39m(\u001b[39m15\u001b[39m, \u001b[39m4\u001b[39m))\n\u001b[1;32m----> <a href='vscode-notebook-cell:/c%3A/SkillBox/IDE/DataCleaningProject/data_cleaning_example.ipynb#Y112sZmlsZQ%3D%3D?line=1'>2</a>\u001b[0m histplot \u001b[39m=\u001b[39m sns\u001b[39m.\u001b[39;49mhistplot(data\u001b[39m=\u001b[39;49msber_data, x\u001b[39m=\u001b[39;49m\u001b[39m'\u001b[39;49m\u001b[39mfull_sq\u001b[39;49m\u001b[39m'\u001b[39;49m, ax\u001b[39m=\u001b[39;49maxes[\u001b[39m0\u001b[39;49m])\n\u001b[0;32m      <a href='vscode-notebook-cell:/c%3A/SkillBox/IDE/DataCleaningProject/data_cleaning_example.ipynb#Y112sZmlsZQ%3D%3D?line=2'>3</a>\u001b[0m histplot\u001b[39m.\u001b[39mset_title(\u001b[39m'\u001b[39m\u001b[39mFull Square Distribution\u001b[39m\u001b[39m'\u001b[39m)\n\u001b[0;32m      <a href='vscode-notebook-cell:/c%3A/SkillBox/IDE/DataCleaningProject/data_cleaning_example.ipynb#Y112sZmlsZQ%3D%3D?line=3'>4</a>\u001b[0m boxplot \u001b[39m=\u001b[39m sns\u001b[39m.\u001b[39mboxplot(data\u001b[39m=\u001b[39msber_data, x\u001b[39m=\u001b[39m\u001b[39m'\u001b[39m\u001b[39mfull_sq\u001b[39m\u001b[39m'\u001b[39m, ax\u001b[39m=\u001b[39maxes[\u001b[39m1\u001b[39m])\n",
      "File \u001b[1;32m~\\AppData\\Roaming\\Python\\Python310\\site-packages\\seaborn\\distributions.py:1412\u001b[0m, in \u001b[0;36mhistplot\u001b[1;34m(data, x, y, hue, weights, stat, bins, binwidth, binrange, discrete, cumulative, common_bins, common_norm, multiple, element, fill, shrink, kde, kde_kws, line_kws, thresh, pthresh, pmax, cbar, cbar_ax, cbar_kws, palette, hue_order, hue_norm, color, log_scale, legend, ax, **kwargs)\u001b[0m\n\u001b[0;32m   1410\u001b[0m     \u001b[39melse\u001b[39;00m:\n\u001b[0;32m   1411\u001b[0m         method \u001b[39m=\u001b[39m ax\u001b[39m.\u001b[39mplot\n\u001b[1;32m-> 1412\u001b[0m     color \u001b[39m=\u001b[39m _default_color(method, hue, color, kwargs)\n\u001b[0;32m   1414\u001b[0m \u001b[39mif\u001b[39;00m \u001b[39mnot\u001b[39;00m p\u001b[39m.\u001b[39mhas_xy_data:\n\u001b[0;32m   1415\u001b[0m     \u001b[39mreturn\u001b[39;00m ax\n",
      "File \u001b[1;32m~\\AppData\\Roaming\\Python\\Python310\\site-packages\\seaborn\\utils.py:140\u001b[0m, in \u001b[0;36m_default_color\u001b[1;34m(method, hue, color, kws)\u001b[0m\n\u001b[0;32m    135\u001b[0m     scout\u001b[39m.\u001b[39mremove()\n\u001b[0;32m    137\u001b[0m \u001b[39melif\u001b[39;00m method\u001b[39m.\u001b[39m\u001b[39m__name__\u001b[39m \u001b[39m==\u001b[39m \u001b[39m\"\u001b[39m\u001b[39mbar\u001b[39m\u001b[39m\"\u001b[39m:\n\u001b[0;32m    138\u001b[0m \n\u001b[0;32m    139\u001b[0m     \u001b[39m# bar() needs masked, not empty data, to generate a patch\u001b[39;00m\n\u001b[1;32m--> 140\u001b[0m     scout, \u001b[39m=\u001b[39m method([np\u001b[39m.\u001b[39mnan], [np\u001b[39m.\u001b[39mnan], \u001b[39m*\u001b[39m\u001b[39m*\u001b[39mkws)\n\u001b[0;32m    141\u001b[0m     color \u001b[39m=\u001b[39m to_rgb(scout\u001b[39m.\u001b[39mget_facecolor())\n\u001b[0;32m    142\u001b[0m     scout\u001b[39m.\u001b[39mremove()\n",
      "File \u001b[1;32mc:\\Users\\Dmitriy\\AppData\\Local\\Programs\\Python\\Python310\\lib\\site-packages\\matplotlib\\__init__.py:1423\u001b[0m, in \u001b[0;36m_preprocess_data.<locals>.inner\u001b[1;34m(ax, data, *args, **kwargs)\u001b[0m\n\u001b[0;32m   1420\u001b[0m \u001b[39m@functools\u001b[39m\u001b[39m.\u001b[39mwraps(func)\n\u001b[0;32m   1421\u001b[0m \u001b[39mdef\u001b[39;00m \u001b[39minner\u001b[39m(ax, \u001b[39m*\u001b[39margs, data\u001b[39m=\u001b[39m\u001b[39mNone\u001b[39;00m, \u001b[39m*\u001b[39m\u001b[39m*\u001b[39mkwargs):\n\u001b[0;32m   1422\u001b[0m     \u001b[39mif\u001b[39;00m data \u001b[39mis\u001b[39;00m \u001b[39mNone\u001b[39;00m:\n\u001b[1;32m-> 1423\u001b[0m         \u001b[39mreturn\u001b[39;00m func(ax, \u001b[39m*\u001b[39m\u001b[39mmap\u001b[39m(sanitize_sequence, args), \u001b[39m*\u001b[39m\u001b[39m*\u001b[39mkwargs)\n\u001b[0;32m   1425\u001b[0m     bound \u001b[39m=\u001b[39m new_sig\u001b[39m.\u001b[39mbind(ax, \u001b[39m*\u001b[39margs, \u001b[39m*\u001b[39m\u001b[39m*\u001b[39mkwargs)\n\u001b[0;32m   1426\u001b[0m     auto_label \u001b[39m=\u001b[39m (bound\u001b[39m.\u001b[39marguments\u001b[39m.\u001b[39mget(label_namer)\n\u001b[0;32m   1427\u001b[0m                   \u001b[39mor\u001b[39;00m bound\u001b[39m.\u001b[39mkwargs\u001b[39m.\u001b[39mget(label_namer))\n",
      "File \u001b[1;32mc:\\Users\\Dmitriy\\AppData\\Local\\Programs\\Python\\Python310\\lib\\site-packages\\matplotlib\\axes\\_axes.py:2373\u001b[0m, in \u001b[0;36mAxes.bar\u001b[1;34m(self, x, height, width, bottom, align, **kwargs)\u001b[0m\n\u001b[0;32m   2371\u001b[0m x0 \u001b[39m=\u001b[39m x\n\u001b[0;32m   2372\u001b[0m x \u001b[39m=\u001b[39m np\u001b[39m.\u001b[39masarray(\u001b[39mself\u001b[39m\u001b[39m.\u001b[39mconvert_xunits(x))\n\u001b[1;32m-> 2373\u001b[0m width \u001b[39m=\u001b[39m \u001b[39mself\u001b[39;49m\u001b[39m.\u001b[39;49m_convert_dx(width, x0, x, \u001b[39mself\u001b[39;49m\u001b[39m.\u001b[39;49mconvert_xunits)\n\u001b[0;32m   2374\u001b[0m \u001b[39mif\u001b[39;00m xerr \u001b[39mis\u001b[39;00m \u001b[39mnot\u001b[39;00m \u001b[39mNone\u001b[39;00m:\n\u001b[0;32m   2375\u001b[0m     xerr \u001b[39m=\u001b[39m \u001b[39mself\u001b[39m\u001b[39m.\u001b[39m_convert_dx(xerr, x0, x, \u001b[39mself\u001b[39m\u001b[39m.\u001b[39mconvert_xunits)\n",
      "File \u001b[1;32mc:\\Users\\Dmitriy\\AppData\\Local\\Programs\\Python\\Python310\\lib\\site-packages\\matplotlib\\axes\\_axes.py:2182\u001b[0m, in \u001b[0;36mAxes._convert_dx\u001b[1;34m(dx, x0, xconv, convert)\u001b[0m\n\u001b[0;32m   2170\u001b[0m \u001b[39mtry\u001b[39;00m:\n\u001b[0;32m   2171\u001b[0m     \u001b[39m# attempt to add the width to x0; this works for\u001b[39;00m\n\u001b[0;32m   2172\u001b[0m     \u001b[39m# datetime+timedelta, for instance\u001b[39;00m\n\u001b[1;32m   (...)\u001b[0m\n\u001b[0;32m   2179\u001b[0m     \u001b[39m# removes the units from unit packages like `pint` that\u001b[39;00m\n\u001b[0;32m   2180\u001b[0m     \u001b[39m# wrap numpy arrays.\u001b[39;00m\n\u001b[0;32m   2181\u001b[0m     \u001b[39mtry\u001b[39;00m:\n\u001b[1;32m-> 2182\u001b[0m         x0 \u001b[39m=\u001b[39m cbook\u001b[39m.\u001b[39;49m_safe_first_finite(x0)\n\u001b[0;32m   2183\u001b[0m     \u001b[39mexcept\u001b[39;00m (\u001b[39mTypeError\u001b[39;00m, \u001b[39mIndexError\u001b[39;00m, \u001b[39mKeyError\u001b[39;00m):\n\u001b[0;32m   2184\u001b[0m         \u001b[39mpass\u001b[39;00m\n",
      "File \u001b[1;32mc:\\Users\\Dmitriy\\AppData\\Local\\Programs\\Python\\Python310\\lib\\site-packages\\matplotlib\\cbook\\__init__.py:1749\u001b[0m, in \u001b[0;36m_safe_first_finite\u001b[1;34m(obj, skip_nonfinite)\u001b[0m\n\u001b[0;32m   1746\u001b[0m     \u001b[39mraise\u001b[39;00m \u001b[39mRuntimeError\u001b[39;00m(\u001b[39m\"\u001b[39m\u001b[39mmatplotlib does not \u001b[39m\u001b[39m\"\u001b[39m\n\u001b[0;32m   1747\u001b[0m                        \u001b[39m\"\u001b[39m\u001b[39msupport generators as input\u001b[39m\u001b[39m\"\u001b[39m)\n\u001b[0;32m   1748\u001b[0m \u001b[39melse\u001b[39;00m:\n\u001b[1;32m-> 1749\u001b[0m     \u001b[39mreturn\u001b[39;00m \u001b[39mnext\u001b[39;49m(val \u001b[39mfor\u001b[39;49;00m val \u001b[39min\u001b[39;49;00m obj \u001b[39mif\u001b[39;49;00m safe_isfinite(val))\n",
      "\u001b[1;31mStopIteration\u001b[0m: "
     ]
    },
    {
     "data": {
      "image/png": "[encoded data removed]",
      "text/plain": [
       "<Figure size 1080x288 with 2 Axes>"
      ]
     },
     "metadata": {
      "needs_background": "light"
     },
     "output_type": "display_data"
    }
   ],
   "source": [
    "fig, axes = plt.subplots(nrows=1, ncols=2, figsize=(15, 4))\n",
    "histplot = sns.histplot(data=sber_data, x='full_sq', ax=axes[0])\n",
    "histplot.set_title('Full Square Distribution')\n",
    "boxplot = sns.boxplot(data=sber_data, x='full_sq', ax=axes[1])\n",
    "boxplot.set_title('Full Square Boxplot')"
   ]
  },
  {
   "cell_type": "markdown",
   "id": "0c3b92bd",
   "metadata": {},
   "source": [
    "Основная масса квартир имеет общую площадь менее 250 квадратных метров, и лишь несколько невзрачных наблюдений выбиваются из этого интервала. Максимальная площадь, судя по гистограмме, превышает 5 000 квадратных метров."
   ]
  },
  {
   "cell_type": "markdown",
   "id": "234e5665",
   "metadata": {},
   "source": [
    "Данные не являются нормально-распределенными, распределение даже не является симметричным. Попробуем логарифмировать признак:"
   ]
  },
  {
   "cell_type": "code",
   "execution_count": null,
   "id": "f655c6cb-47c1-435a-a315-02732d1e6573",
   "metadata": {},
   "outputs": [
    {
     "ename": "StopIteration",
     "evalue": "",
     "output_type": "error",
     "traceback": [
      "\u001b[1;31m---------------------------------------------------------------------------\u001b[0m",
      "\u001b[1;31mStopIteration\u001b[0m                             Traceback (most recent call last)",
      "\u001b[1;32mc:\\SkillBox\\IDE\\DataCleaningProject\\data_cleaning_example.ipynb Ячейка 62\u001b[0m in \u001b[0;36m<cell line: 2>\u001b[1;34m()\u001b[0m\n\u001b[0;32m      <a href='vscode-notebook-cell:/c%3A/SkillBox/IDE/DataCleaningProject/data_cleaning_example.ipynb#Y115sZmlsZQ%3D%3D?line=0'>1</a>\u001b[0m fig, axes \u001b[39m=\u001b[39m plt\u001b[39m.\u001b[39msubplots(nrows\u001b[39m=\u001b[39m\u001b[39m1\u001b[39m, ncols\u001b[39m=\u001b[39m\u001b[39m2\u001b[39m, figsize\u001b[39m=\u001b[39m(\u001b[39m15\u001b[39m, \u001b[39m4\u001b[39m))\n\u001b[1;32m----> <a href='vscode-notebook-cell:/c%3A/SkillBox/IDE/DataCleaningProject/data_cleaning_example.ipynb#Y115sZmlsZQ%3D%3D?line=1'>2</a>\u001b[0m histplot \u001b[39m=\u001b[39m sns\u001b[39m.\u001b[39;49mhistplot(data\u001b[39m=\u001b[39;49msber_data, x\u001b[39m=\u001b[39;49mnp\u001b[39m.\u001b[39;49mlog(sber_data[\u001b[39m'\u001b[39;49m\u001b[39mfull_sq\u001b[39;49m\u001b[39m'\u001b[39;49m]\u001b[39m+\u001b[39;49m\u001b[39m1\u001b[39;49m), ax\u001b[39m=\u001b[39;49maxes[\u001b[39m0\u001b[39;49m]);\n\u001b[0;32m      <a href='vscode-notebook-cell:/c%3A/SkillBox/IDE/DataCleaningProject/data_cleaning_example.ipynb#Y115sZmlsZQ%3D%3D?line=2'>3</a>\u001b[0m histplot\u001b[39m.\u001b[39mset_title(\u001b[39m'\u001b[39m\u001b[39mFull Square Distribution\u001b[39m\u001b[39m'\u001b[39m);\n\u001b[0;32m      <a href='vscode-notebook-cell:/c%3A/SkillBox/IDE/DataCleaningProject/data_cleaning_example.ipynb#Y115sZmlsZQ%3D%3D?line=3'>4</a>\u001b[0m boxplot \u001b[39m=\u001b[39m sns\u001b[39m.\u001b[39mboxplot(data\u001b[39m=\u001b[39msber_data, x\u001b[39m=\u001b[39mnp\u001b[39m.\u001b[39mlog(sber_data[\u001b[39m'\u001b[39m\u001b[39mfull_sq\u001b[39m\u001b[39m'\u001b[39m]\u001b[39m+\u001b[39m\u001b[39m1\u001b[39m), ax\u001b[39m=\u001b[39maxes[\u001b[39m1\u001b[39m]);\n",
      "File \u001b[1;32m~\\AppData\\Roaming\\Python\\Python310\\site-packages\\seaborn\\distributions.py:1412\u001b[0m, in \u001b[0;36mhistplot\u001b[1;34m(data, x, y, hue, weights, stat, bins, binwidth, binrange, discrete, cumulative, common_bins, common_norm, multiple, element, fill, shrink, kde, kde_kws, line_kws, thresh, pthresh, pmax, cbar, cbar_ax, cbar_kws, palette, hue_order, hue_norm, color, log_scale, legend, ax, **kwargs)\u001b[0m\n\u001b[0;32m   1410\u001b[0m     \u001b[39melse\u001b[39;00m:\n\u001b[0;32m   1411\u001b[0m         method \u001b[39m=\u001b[39m ax\u001b[39m.\u001b[39mplot\n\u001b[1;32m-> 1412\u001b[0m     color \u001b[39m=\u001b[39m _default_color(method, hue, color, kwargs)\n\u001b[0;32m   1414\u001b[0m \u001b[39mif\u001b[39;00m \u001b[39mnot\u001b[39;00m p\u001b[39m.\u001b[39mhas_xy_data:\n\u001b[0;32m   1415\u001b[0m     \u001b[39mreturn\u001b[39;00m ax\n",
      "File \u001b[1;32m~\\AppData\\Roaming\\Python\\Python310\\site-packages\\seaborn\\utils.py:140\u001b[0m, in \u001b[0;36m_default_color\u001b[1;34m(method, hue, color, kws)\u001b[0m\n\u001b[0;32m    135\u001b[0m     scout\u001b[39m.\u001b[39mremove()\n\u001b[0;32m    137\u001b[0m \u001b[39melif\u001b[39;00m method\u001b[39m.\u001b[39m\u001b[39m__name__\u001b[39m \u001b[39m==\u001b[39m \u001b[39m\"\u001b[39m\u001b[39mbar\u001b[39m\u001b[39m\"\u001b[39m:\n\u001b[0;32m    138\u001b[0m \n\u001b[0;32m    139\u001b[0m     \u001b[39m# bar() needs masked, not empty data, to generate a patch\u001b[39;00m\n\u001b[1;32m--> 140\u001b[0m     scout, \u001b[39m=\u001b[39m method([np\u001b[39m.\u001b[39mnan], [np\u001b[39m.\u001b[39mnan], \u001b[39m*\u001b[39m\u001b[39m*\u001b[39mkws)\n\u001b[0;32m    141\u001b[0m     color \u001b[39m=\u001b[39m to_rgb(scout\u001b[39m.\u001b[39mget_facecolor())\n\u001b[0;32m    142\u001b[0m     scout\u001b[39m.\u001b[39mremove()\n",
      "File \u001b[1;32mc:\\Users\\Dmitriy\\AppData\\Local\\Programs\\Python\\Python310\\lib\\site-packages\\matplotlib\\__init__.py:1423\u001b[0m, in \u001b[0;36m_preprocess_data.<locals>.inner\u001b[1;34m(ax, data, *args, **kwargs)\u001b[0m\n\u001b[0;32m   1420\u001b[0m \u001b[39m@functools\u001b[39m\u001b[39m.\u001b[39mwraps(func)\n\u001b[0;32m   1421\u001b[0m \u001b[39mdef\u001b[39;00m \u001b[39minner\u001b[39m(ax, \u001b[39m*\u001b[39margs, data\u001b[39m=\u001b[39m\u001b[39mNone\u001b[39;00m, \u001b[39m*\u001b[39m\u001b[39m*\u001b[39mkwargs):\n\u001b[0;32m   1422\u001b[0m     \u001b[39mif\u001b[39;00m data \u001b[39mis\u001b[39;00m \u001b[39mNone\u001b[39;00m:\n\u001b[1;32m-> 1423\u001b[0m         \u001b[39mreturn\u001b[39;00m func(ax, \u001b[39m*\u001b[39m\u001b[39mmap\u001b[39m(sanitize_sequence, args), \u001b[39m*\u001b[39m\u001b[39m*\u001b[39mkwargs)\n\u001b[0;32m   1425\u001b[0m     bound \u001b[39m=\u001b[39m new_sig\u001b[39m.\u001b[39mbind(ax, \u001b[39m*\u001b[39margs, \u001b[39m*\u001b[39m\u001b[39m*\u001b[39mkwargs)\n\u001b[0;32m   1426\u001b[0m     auto_label \u001b[39m=\u001b[39m (bound\u001b[39m.\u001b[39marguments\u001b[39m.\u001b[39mget(label_namer)\n\u001b[0;32m   1427\u001b[0m                   \u001b[39mor\u001b[39;00m bound\u001b[39m.\u001b[39mkwargs\u001b[39m.\u001b[39mget(label_namer))\n",
      "File \u001b[1;32mc:\\Users\\Dmitriy\\AppData\\Local\\Programs\\Python\\Python310\\lib\\site-packages\\matplotlib\\axes\\_axes.py:2373\u001b[0m, in \u001b[0;36mAxes.bar\u001b[1;34m(self, x, height, width, bottom, align, **kwargs)\u001b[0m\n\u001b[0;32m   2371\u001b[0m x0 \u001b[39m=\u001b[39m x\n\u001b[0;32m   2372\u001b[0m x \u001b[39m=\u001b[39m np\u001b[39m.\u001b[39masarray(\u001b[39mself\u001b[39m\u001b[39m.\u001b[39mconvert_xunits(x))\n\u001b[1;32m-> 2373\u001b[0m width \u001b[39m=\u001b[39m \u001b[39mself\u001b[39;49m\u001b[39m.\u001b[39;49m_convert_dx(width, x0, x, \u001b[39mself\u001b[39;49m\u001b[39m.\u001b[39;49mconvert_xunits)\n\u001b[0;32m   2374\u001b[0m \u001b[39mif\u001b[39;00m xerr \u001b[39mis\u001b[39;00m \u001b[39mnot\u001b[39;00m \u001b[39mNone\u001b[39;00m:\n\u001b[0;32m   2375\u001b[0m     xerr \u001b[39m=\u001b[39m \u001b[39mself\u001b[39m\u001b[39m.\u001b[39m_convert_dx(xerr, x0, x, \u001b[39mself\u001b[39m\u001b[39m.\u001b[39mconvert_xunits)\n",
      "File \u001b[1;32mc:\\Users\\Dmitriy\\AppData\\Local\\Programs\\Python\\Python310\\lib\\site-packages\\matplotlib\\axes\\_axes.py:2182\u001b[0m, in \u001b[0;36mAxes._convert_dx\u001b[1;34m(dx, x0, xconv, convert)\u001b[0m\n\u001b[0;32m   2170\u001b[0m \u001b[39mtry\u001b[39;00m:\n\u001b[0;32m   2171\u001b[0m     \u001b[39m# attempt to add the width to x0; this works for\u001b[39;00m\n\u001b[0;32m   2172\u001b[0m     \u001b[39m# datetime+timedelta, for instance\u001b[39;00m\n\u001b[1;32m   (...)\u001b[0m\n\u001b[0;32m   2179\u001b[0m     \u001b[39m# removes the units from unit packages like `pint` that\u001b[39;00m\n\u001b[0;32m   2180\u001b[0m     \u001b[39m# wrap numpy arrays.\u001b[39;00m\n\u001b[0;32m   2181\u001b[0m     \u001b[39mtry\u001b[39;00m:\n\u001b[1;32m-> 2182\u001b[0m         x0 \u001b[39m=\u001b[39m cbook\u001b[39m.\u001b[39;49m_safe_first_finite(x0)\n\u001b[0;32m   2183\u001b[0m     \u001b[39mexcept\u001b[39;00m (\u001b[39mTypeError\u001b[39;00m, \u001b[39mIndexError\u001b[39;00m, \u001b[39mKeyError\u001b[39;00m):\n\u001b[0;32m   2184\u001b[0m         \u001b[39mpass\u001b[39;00m\n",
      "File \u001b[1;32mc:\\Users\\Dmitriy\\AppData\\Local\\Programs\\Python\\Python310\\lib\\site-packages\\matplotlib\\cbook\\__init__.py:1749\u001b[0m, in \u001b[0;36m_safe_first_finite\u001b[1;34m(obj, skip_nonfinite)\u001b[0m\n\u001b[0;32m   1746\u001b[0m     \u001b[39mraise\u001b[39;00m \u001b[39mRuntimeError\u001b[39;00m(\u001b[39m\"\u001b[39m\u001b[39mmatplotlib does not \u001b[39m\u001b[39m\"\u001b[39m\n\u001b[0;32m   1747\u001b[0m                        \u001b[39m\"\u001b[39m\u001b[39msupport generators as input\u001b[39m\u001b[39m\"\u001b[39m)\n\u001b[0;32m   1748\u001b[0m \u001b[39melse\u001b[39;00m:\n\u001b[1;32m-> 1749\u001b[0m     \u001b[39mreturn\u001b[39;00m \u001b[39mnext\u001b[39;49m(val \u001b[39mfor\u001b[39;49;00m val \u001b[39min\u001b[39;49;00m obj \u001b[39mif\u001b[39;49;00m safe_isfinite(val))\n",
      "\u001b[1;31mStopIteration\u001b[0m: "
     ]
    },
    {
     "data": {
      "image/png": "[encoded data removed]",
      "text/plain": [
       "<Figure size 1080x288 with 2 Axes>"
      ]
     },
     "metadata": {
      "needs_background": "light"
     },
     "output_type": "display_data"
    }
   ],
   "source": [
    "fig, axes = plt.subplots(nrows=1, ncols=2, figsize=(15, 4))\n",
    "histplot = sns.histplot(data=sber_data, x=np.log(sber_data['full_sq']+1), ax=axes[0]);\n",
    "histplot.set_title('Full Square Distribution');\n",
    "boxplot = sns.boxplot(data=sber_data, x=np.log(sber_data['full_sq']+1), ax=axes[1]);\n",
    "boxplot.set_title('Full Square Boxplot');"
   ]
  },
  {
   "cell_type": "markdown",
   "id": "810049d8",
   "metadata": {},
   "source": [
    "С помощью логарифмирования удалось добиться подобия симметрии в данных."
   ]
  },
  {
   "cell_type": "markdown",
   "id": "f04b81ef",
   "metadata": {},
   "source": [
    "Воспользуемся методом межквартильного размаха с предварительным логарифмированием и 2-мя размахами в левую и правую сторону распределения. "
   ]
  },
  {
   "cell_type": "code",
   "execution_count": null,
   "id": "471ce824-f066-450f-b11d-8335d4d2d385",
   "metadata": {},
   "outputs": [
    {
     "name": "stdout",
     "output_type": "stream",
     "text": [
      "Число выбросов по методу Тьюки: 111\n",
      "Результирующее число записей: 30360\n"
     ]
    }
   ],
   "source": [
    "outliers, cleaned = find_outliers_iqr(sber_data, 'full_sq', left=2, right=2, log_scale=True)\n",
    "print(f'Число выбросов по методу Тьюки: {outliers.shape[0]}')\n",
    "print(f'Результирующее число записей: {cleaned.shape[0]}')"
   ]
  },
  {
   "cell_type": "markdown",
   "id": "6630817b",
   "metadata": {},
   "source": [
    "Посмотрим на распределение после удаления выбросов:"
   ]
  },
  {
   "cell_type": "code",
   "execution_count": null,
   "id": "6038d224-9d63-428b-a051-5f23fd38fabe",
   "metadata": {},
   "outputs": [
    {
     "ename": "StopIteration",
     "evalue": "",
     "output_type": "error",
     "traceback": [
      "\u001b[1;31m---------------------------------------------------------------------------\u001b[0m",
      "\u001b[1;31mStopIteration\u001b[0m                             Traceback (most recent call last)",
      "\u001b[1;32mc:\\SkillBox\\IDE\\DataCleaningProject\\data_cleaning_example.ipynb Ячейка 67\u001b[0m in \u001b[0;36m<cell line: 2>\u001b[1;34m()\u001b[0m\n\u001b[0;32m      <a href='vscode-notebook-cell:/c%3A/SkillBox/IDE/DataCleaningProject/data_cleaning_example.ipynb#Y123sZmlsZQ%3D%3D?line=0'>1</a>\u001b[0m fig, axes \u001b[39m=\u001b[39m plt\u001b[39m.\u001b[39msubplots(nrows\u001b[39m=\u001b[39m\u001b[39m1\u001b[39m, ncols\u001b[39m=\u001b[39m\u001b[39m2\u001b[39m, figsize\u001b[39m=\u001b[39m(\u001b[39m15\u001b[39m, \u001b[39m4\u001b[39m))\n\u001b[1;32m----> <a href='vscode-notebook-cell:/c%3A/SkillBox/IDE/DataCleaningProject/data_cleaning_example.ipynb#Y123sZmlsZQ%3D%3D?line=1'>2</a>\u001b[0m histplot \u001b[39m=\u001b[39m sns\u001b[39m.\u001b[39;49mhistplot(data\u001b[39m=\u001b[39;49mcleaned, x\u001b[39m=\u001b[39;49m\u001b[39m'\u001b[39;49m\u001b[39mfull_sq\u001b[39;49m\u001b[39m'\u001b[39;49m, ax\u001b[39m=\u001b[39;49maxes[\u001b[39m0\u001b[39;49m])\n\u001b[0;32m      <a href='vscode-notebook-cell:/c%3A/SkillBox/IDE/DataCleaningProject/data_cleaning_example.ipynb#Y123sZmlsZQ%3D%3D?line=2'>3</a>\u001b[0m histplot\u001b[39m.\u001b[39mset_title(\u001b[39m'\u001b[39m\u001b[39mCleaned Full Square Distribution\u001b[39m\u001b[39m'\u001b[39m)\n\u001b[0;32m      <a href='vscode-notebook-cell:/c%3A/SkillBox/IDE/DataCleaningProject/data_cleaning_example.ipynb#Y123sZmlsZQ%3D%3D?line=3'>4</a>\u001b[0m boxplot \u001b[39m=\u001b[39m sns\u001b[39m.\u001b[39mboxplot(data\u001b[39m=\u001b[39mcleaned, x\u001b[39m=\u001b[39m\u001b[39m'\u001b[39m\u001b[39mfull_sq\u001b[39m\u001b[39m'\u001b[39m, ax\u001b[39m=\u001b[39maxes[\u001b[39m1\u001b[39m])\n",
      "File \u001b[1;32m~\\AppData\\Roaming\\Python\\Python310\\site-packages\\seaborn\\distributions.py:1412\u001b[0m, in \u001b[0;36mhistplot\u001b[1;34m(data, x, y, hue, weights, stat, bins, binwidth, binrange, discrete, cumulative, common_bins, common_norm, multiple, element, fill, shrink, kde, kde_kws, line_kws, thresh, pthresh, pmax, cbar, cbar_ax, cbar_kws, palette, hue_order, hue_norm, color, log_scale, legend, ax, **kwargs)\u001b[0m\n\u001b[0;32m   1410\u001b[0m     \u001b[39melse\u001b[39;00m:\n\u001b[0;32m   1411\u001b[0m         method \u001b[39m=\u001b[39m ax\u001b[39m.\u001b[39mplot\n\u001b[1;32m-> 1412\u001b[0m     color \u001b[39m=\u001b[39m _default_color(method, hue, color, kwargs)\n\u001b[0;32m   1414\u001b[0m \u001b[39mif\u001b[39;00m \u001b[39mnot\u001b[39;00m p\u001b[39m.\u001b[39mhas_xy_data:\n\u001b[0;32m   1415\u001b[0m     \u001b[39mreturn\u001b[39;00m ax\n",
      "File \u001b[1;32m~\\AppData\\Roaming\\Python\\Python310\\site-packages\\seaborn\\utils.py:140\u001b[0m, in \u001b[0;36m_default_color\u001b[1;34m(method, hue, color, kws)\u001b[0m\n\u001b[0;32m    135\u001b[0m     scout\u001b[39m.\u001b[39mremove()\n\u001b[0;32m    137\u001b[0m \u001b[39melif\u001b[39;00m method\u001b[39m.\u001b[39m\u001b[39m__name__\u001b[39m \u001b[39m==\u001b[39m \u001b[39m\"\u001b[39m\u001b[39mbar\u001b[39m\u001b[39m\"\u001b[39m:\n\u001b[0;32m    138\u001b[0m \n\u001b[0;32m    139\u001b[0m     \u001b[39m# bar() needs masked, not empty data, to generate a patch\u001b[39;00m\n\u001b[1;32m--> 140\u001b[0m     scout, \u001b[39m=\u001b[39m method([np\u001b[39m.\u001b[39mnan], [np\u001b[39m.\u001b[39mnan], \u001b[39m*\u001b[39m\u001b[39m*\u001b[39mkws)\n\u001b[0;32m    141\u001b[0m     color \u001b[39m=\u001b[39m to_rgb(scout\u001b[39m.\u001b[39mget_facecolor())\n\u001b[0;32m    142\u001b[0m     scout\u001b[39m.\u001b[39mremove()\n",
      "File \u001b[1;32mc:\\Users\\Dmitriy\\AppData\\Local\\Programs\\Python\\Python310\\lib\\site-packages\\matplotlib\\__init__.py:1423\u001b[0m, in \u001b[0;36m_preprocess_data.<locals>.inner\u001b[1;34m(ax, data, *args, **kwargs)\u001b[0m\n\u001b[0;32m   1420\u001b[0m \u001b[39m@functools\u001b[39m\u001b[39m.\u001b[39mwraps(func)\n\u001b[0;32m   1421\u001b[0m \u001b[39mdef\u001b[39;00m \u001b[39minner\u001b[39m(ax, \u001b[39m*\u001b[39margs, data\u001b[39m=\u001b[39m\u001b[39mNone\u001b[39;00m, \u001b[39m*\u001b[39m\u001b[39m*\u001b[39mkwargs):\n\u001b[0;32m   1422\u001b[0m     \u001b[39mif\u001b[39;00m data \u001b[39mis\u001b[39;00m \u001b[39mNone\u001b[39;00m:\n\u001b[1;32m-> 1423\u001b[0m         \u001b[39mreturn\u001b[39;00m func(ax, \u001b[39m*\u001b[39m\u001b[39mmap\u001b[39m(sanitize_sequence, args), \u001b[39m*\u001b[39m\u001b[39m*\u001b[39mkwargs)\n\u001b[0;32m   1425\u001b[0m     bound \u001b[39m=\u001b[39m new_sig\u001b[39m.\u001b[39mbind(ax, \u001b[39m*\u001b[39margs, \u001b[39m*\u001b[39m\u001b[39m*\u001b[39mkwargs)\n\u001b[0;32m   1426\u001b[0m     auto_label \u001b[39m=\u001b[39m (bound\u001b[39m.\u001b[39marguments\u001b[39m.\u001b[39mget(label_namer)\n\u001b[0;32m   1427\u001b[0m                   \u001b[39mor\u001b[39;00m bound\u001b[39m.\u001b[39mkwargs\u001b[39m.\u001b[39mget(label_namer))\n",
      "File \u001b[1;32mc:\\Users\\Dmitriy\\AppData\\Local\\Programs\\Python\\Python310\\lib\\site-packages\\matplotlib\\axes\\_axes.py:2373\u001b[0m, in \u001b[0;36mAxes.bar\u001b[1;34m(self, x, height, width, bottom, align, **kwargs)\u001b[0m\n\u001b[0;32m   2371\u001b[0m x0 \u001b[39m=\u001b[39m x\n\u001b[0;32m   2372\u001b[0m x \u001b[39m=\u001b[39m np\u001b[39m.\u001b[39masarray(\u001b[39mself\u001b[39m\u001b[39m.\u001b[39mconvert_xunits(x))\n\u001b[1;32m-> 2373\u001b[0m width \u001b[39m=\u001b[39m \u001b[39mself\u001b[39;49m\u001b[39m.\u001b[39;49m_convert_dx(width, x0, x, \u001b[39mself\u001b[39;49m\u001b[39m.\u001b[39;49mconvert_xunits)\n\u001b[0;32m   2374\u001b[0m \u001b[39mif\u001b[39;00m xerr \u001b[39mis\u001b[39;00m \u001b[39mnot\u001b[39;00m \u001b[39mNone\u001b[39;00m:\n\u001b[0;32m   2375\u001b[0m     xerr \u001b[39m=\u001b[39m \u001b[39mself\u001b[39m\u001b[39m.\u001b[39m_convert_dx(xerr, x0, x, \u001b[39mself\u001b[39m\u001b[39m.\u001b[39mconvert_xunits)\n",
      "File \u001b[1;32mc:\\Users\\Dmitriy\\AppData\\Local\\Programs\\Python\\Python310\\lib\\site-packages\\matplotlib\\axes\\_axes.py:2182\u001b[0m, in \u001b[0;36mAxes._convert_dx\u001b[1;34m(dx, x0, xconv, convert)\u001b[0m\n\u001b[0;32m   2170\u001b[0m \u001b[39mtry\u001b[39;00m:\n\u001b[0;32m   2171\u001b[0m     \u001b[39m# attempt to add the width to x0; this works for\u001b[39;00m\n\u001b[0;32m   2172\u001b[0m     \u001b[39m# datetime+timedelta, for instance\u001b[39;00m\n\u001b[1;32m   (...)\u001b[0m\n\u001b[0;32m   2179\u001b[0m     \u001b[39m# removes the units from unit packages like `pint` that\u001b[39;00m\n\u001b[0;32m   2180\u001b[0m     \u001b[39m# wrap numpy arrays.\u001b[39;00m\n\u001b[0;32m   2181\u001b[0m     \u001b[39mtry\u001b[39;00m:\n\u001b[1;32m-> 2182\u001b[0m         x0 \u001b[39m=\u001b[39m cbook\u001b[39m.\u001b[39;49m_safe_first_finite(x0)\n\u001b[0;32m   2183\u001b[0m     \u001b[39mexcept\u001b[39;00m (\u001b[39mTypeError\u001b[39;00m, \u001b[39mIndexError\u001b[39;00m, \u001b[39mKeyError\u001b[39;00m):\n\u001b[0;32m   2184\u001b[0m         \u001b[39mpass\u001b[39;00m\n",
      "File \u001b[1;32mc:\\Users\\Dmitriy\\AppData\\Local\\Programs\\Python\\Python310\\lib\\site-packages\\matplotlib\\cbook\\__init__.py:1749\u001b[0m, in \u001b[0;36m_safe_first_finite\u001b[1;34m(obj, skip_nonfinite)\u001b[0m\n\u001b[0;32m   1746\u001b[0m     \u001b[39mraise\u001b[39;00m \u001b[39mRuntimeError\u001b[39;00m(\u001b[39m\"\u001b[39m\u001b[39mmatplotlib does not \u001b[39m\u001b[39m\"\u001b[39m\n\u001b[0;32m   1747\u001b[0m                        \u001b[39m\"\u001b[39m\u001b[39msupport generators as input\u001b[39m\u001b[39m\"\u001b[39m)\n\u001b[0;32m   1748\u001b[0m \u001b[39melse\u001b[39;00m:\n\u001b[1;32m-> 1749\u001b[0m     \u001b[39mreturn\u001b[39;00m \u001b[39mnext\u001b[39;49m(val \u001b[39mfor\u001b[39;49;00m val \u001b[39min\u001b[39;49;00m obj \u001b[39mif\u001b[39;49;00m safe_isfinite(val))\n",
      "\u001b[1;31mStopIteration\u001b[0m: "
     ]
    },
    {
     "data": {
      "image/png": "[encoded data removed]",
      "text/plain": [
       "<Figure size 1080x288 with 2 Axes>"
      ]
     },
     "metadata": {
      "needs_background": "light"
     },
     "output_type": "display_data"
    }
   ],
   "source": [
    "fig, axes = plt.subplots(nrows=1, ncols=2, figsize=(15, 4))\n",
    "histplot = sns.histplot(data=cleaned, x='full_sq', ax=axes[0])\n",
    "histplot.set_title('Cleaned Full Square Distribution')\n",
    "boxplot = sns.boxplot(data=cleaned, x='full_sq', ax=axes[1])\n",
    "boxplot.set_title('Cleaned Full Square Boxplot')"
   ]
  },
  {
   "cell_type": "markdown",
   "id": "884b3992-766f-4d40-b0b4-a99fc4c90ec7",
   "metadata": {},
   "source": [
    "**3. Метод z-отклонений**"
   ]
  },
  {
   "cell_type": "markdown",
   "id": "829d6b69",
   "metadata": {},
   "source": [
    "Данный метод также относится к категории статистических и реализован в виде отдельной python-функции в дирректории find_outliers в файле find_outliers.py.\n",
    "\n",
    "Подробнее о методе можно в файле [README.md](./find_outliers/README.md)"
   ]
  },
  {
   "cell_type": "code",
   "execution_count": null,
   "id": "521e532f",
   "metadata": {},
   "outputs": [],
   "source": [
    "from outliers_lib.find_outliers import find_outliers_z_score"
   ]
  },
  {
   "cell_type": "markdown",
   "id": "9b0b1546",
   "metadata": {},
   "source": [
    "Построим две гистограммы признака расстояния до МКАД (mkad_km): первая — в обычном масштабе, а вторая — в логарифмическом."
   ]
  },
  {
   "cell_type": "code",
   "execution_count": null,
   "id": "5117abb1-2f79-4d85-9e7d-54c751f164fe",
   "metadata": {},
   "outputs": [
    {
     "data": {
      "image/png": "[encoded data removed]",
      "text/plain": [
       "<Figure size 1080x288 with 2 Axes>"
      ]
     },
     "metadata": {
      "needs_background": "light"
     },
     "output_type": "display_data"
    }
   ],
   "source": [
    "fig, axes = plt.subplots(1, 2, figsize=(15, 4))\n",
    "histplot = sns.histplot(sber_data['mkad_km'], bins=30, ax=axes[0])\n",
    "histplot.set_title('MKAD Km Distribution');\n",
    "\n",
    "log_mkad_km = np.log(sber_data['mkad_km'] + 1)\n",
    "histplot = sns.histplot(log_mkad_km, bins=30, ax=axes[1])\n",
    "histplot.set_title('Log MKAD Km Distribution')"
   ]
  },
  {
   "cell_type": "markdown",
   "id": "fdd98f0b",
   "metadata": {},
   "source": [
    "Левое распределение напоминает логнормальное распределение с наличием потенциальных выбросов-«пеньков», далеко отстоящих от основной массы наблюдений.\n",
    "\n",
    "Взяв натуральный логарифм от левого распределения, мы получаем правое, которое напоминает слегка перекошенное нормальное."
   ]
  },
  {
   "cell_type": "markdown",
   "id": "3cd389f7",
   "metadata": {},
   "source": [
    "Воспользуемся методом z отклонений с предварительным логарифмированием:"
   ]
  },
  {
   "cell_type": "code",
   "execution_count": null,
   "id": "35e16fbb",
   "metadata": {},
   "outputs": [
    {
     "name": "stdout",
     "output_type": "stream",
     "text": [
      "Число выбросов по методу z-отклонения: 33\n",
      "Результирующее число записей: 30438\n"
     ]
    }
   ],
   "source": [
    "outliers, cleaned = find_outliers_z_score(sber_data, 'mkad_km', log_scale=True)\n",
    "print(f'Число выбросов по методу z-отклонения: {outliers.shape[0]}')\n",
    "print(f'Результирующее число записей: {cleaned.shape[0]}')"
   ]
  },
  {
   "cell_type": "markdown",
   "id": "b86f28d8",
   "metadata": {},
   "source": [
    "Построим гистограмму очищенных данных:"
   ]
  },
  {
   "cell_type": "code",
   "execution_count": null,
   "id": "422e0a1f",
   "metadata": {},
   "outputs": [
    {
     "ename": "StopIteration",
     "evalue": "",
     "output_type": "error",
     "traceback": [
      "\u001b[1;31m---------------------------------------------------------------------------\u001b[0m",
      "\u001b[1;31mStopIteration\u001b[0m                             Traceback (most recent call last)",
      "\u001b[1;32mc:\\SkillBox\\IDE\\DataCleaningProject\\data_cleaning_example.ipynb Ячейка 77\u001b[0m in \u001b[0;36m<cell line: 2>\u001b[1;34m()\u001b[0m\n\u001b[0;32m      <a href='vscode-notebook-cell:/c%3A/SkillBox/IDE/DataCleaningProject/data_cleaning_example.ipynb#Y136sZmlsZQ%3D%3D?line=0'>1</a>\u001b[0m fig \u001b[39m=\u001b[39m plt\u001b[39m.\u001b[39mfigure(figsize\u001b[39m=\u001b[39m(\u001b[39m10\u001b[39m, \u001b[39m4\u001b[39m))\n\u001b[1;32m----> <a href='vscode-notebook-cell:/c%3A/SkillBox/IDE/DataCleaningProject/data_cleaning_example.ipynb#Y136sZmlsZQ%3D%3D?line=1'>2</a>\u001b[0m histplot \u001b[39m=\u001b[39m sns\u001b[39m.\u001b[39;49mhistplot(cleaned[\u001b[39m'\u001b[39;49m\u001b[39mmkad_km\u001b[39;49m\u001b[39m'\u001b[39;49m], bins\u001b[39m=\u001b[39;49m\u001b[39m30\u001b[39;49m)\n\u001b[0;32m      <a href='vscode-notebook-cell:/c%3A/SkillBox/IDE/DataCleaningProject/data_cleaning_example.ipynb#Y136sZmlsZQ%3D%3D?line=2'>3</a>\u001b[0m histplot\u001b[39m.\u001b[39mset_title(\u001b[39m'\u001b[39m\u001b[39mSqrt Kremlin Km Distribution\u001b[39m\u001b[39m'\u001b[39m)\n",
      "File \u001b[1;32m~\\AppData\\Roaming\\Python\\Python310\\site-packages\\seaborn\\distributions.py:1412\u001b[0m, in \u001b[0;36mhistplot\u001b[1;34m(data, x, y, hue, weights, stat, bins, binwidth, binrange, discrete, cumulative, common_bins, common_norm, multiple, element, fill, shrink, kde, kde_kws, line_kws, thresh, pthresh, pmax, cbar, cbar_ax, cbar_kws, palette, hue_order, hue_norm, color, log_scale, legend, ax, **kwargs)\u001b[0m\n\u001b[0;32m   1410\u001b[0m     \u001b[39melse\u001b[39;00m:\n\u001b[0;32m   1411\u001b[0m         method \u001b[39m=\u001b[39m ax\u001b[39m.\u001b[39mplot\n\u001b[1;32m-> 1412\u001b[0m     color \u001b[39m=\u001b[39m _default_color(method, hue, color, kwargs)\n\u001b[0;32m   1414\u001b[0m \u001b[39mif\u001b[39;00m \u001b[39mnot\u001b[39;00m p\u001b[39m.\u001b[39mhas_xy_data:\n\u001b[0;32m   1415\u001b[0m     \u001b[39mreturn\u001b[39;00m ax\n",
      "File \u001b[1;32m~\\AppData\\Roaming\\Python\\Python310\\site-packages\\seaborn\\utils.py:140\u001b[0m, in \u001b[0;36m_default_color\u001b[1;34m(method, hue, color, kws)\u001b[0m\n\u001b[0;32m    135\u001b[0m     scout\u001b[39m.\u001b[39mremove()\n\u001b[0;32m    137\u001b[0m \u001b[39melif\u001b[39;00m method\u001b[39m.\u001b[39m\u001b[39m__name__\u001b[39m \u001b[39m==\u001b[39m \u001b[39m\"\u001b[39m\u001b[39mbar\u001b[39m\u001b[39m\"\u001b[39m:\n\u001b[0;32m    138\u001b[0m \n\u001b[0;32m    139\u001b[0m     \u001b[39m# bar() needs masked, not empty data, to generate a patch\u001b[39;00m\n\u001b[1;32m--> 140\u001b[0m     scout, \u001b[39m=\u001b[39m method([np\u001b[39m.\u001b[39mnan], [np\u001b[39m.\u001b[39mnan], \u001b[39m*\u001b[39m\u001b[39m*\u001b[39mkws)\n\u001b[0;32m    141\u001b[0m     color \u001b[39m=\u001b[39m to_rgb(scout\u001b[39m.\u001b[39mget_facecolor())\n\u001b[0;32m    142\u001b[0m     scout\u001b[39m.\u001b[39mremove()\n",
      "File \u001b[1;32mc:\\Users\\Dmitriy\\AppData\\Local\\Programs\\Python\\Python310\\lib\\site-packages\\matplotlib\\__init__.py:1423\u001b[0m, in \u001b[0;36m_preprocess_data.<locals>.inner\u001b[1;34m(ax, data, *args, **kwargs)\u001b[0m\n\u001b[0;32m   1420\u001b[0m \u001b[39m@functools\u001b[39m\u001b[39m.\u001b[39mwraps(func)\n\u001b[0;32m   1421\u001b[0m \u001b[39mdef\u001b[39;00m \u001b[39minner\u001b[39m(ax, \u001b[39m*\u001b[39margs, data\u001b[39m=\u001b[39m\u001b[39mNone\u001b[39;00m, \u001b[39m*\u001b[39m\u001b[39m*\u001b[39mkwargs):\n\u001b[0;32m   1422\u001b[0m     \u001b[39mif\u001b[39;00m data \u001b[39mis\u001b[39;00m \u001b[39mNone\u001b[39;00m:\n\u001b[1;32m-> 1423\u001b[0m         \u001b[39mreturn\u001b[39;00m func(ax, \u001b[39m*\u001b[39m\u001b[39mmap\u001b[39m(sanitize_sequence, args), \u001b[39m*\u001b[39m\u001b[39m*\u001b[39mkwargs)\n\u001b[0;32m   1425\u001b[0m     bound \u001b[39m=\u001b[39m new_sig\u001b[39m.\u001b[39mbind(ax, \u001b[39m*\u001b[39margs, \u001b[39m*\u001b[39m\u001b[39m*\u001b[39mkwargs)\n\u001b[0;32m   1426\u001b[0m     auto_label \u001b[39m=\u001b[39m (bound\u001b[39m.\u001b[39marguments\u001b[39m.\u001b[39mget(label_namer)\n\u001b[0;32m   1427\u001b[0m                   \u001b[39mor\u001b[39;00m bound\u001b[39m.\u001b[39mkwargs\u001b[39m.\u001b[39mget(label_namer))\n",
      "File \u001b[1;32mc:\\Users\\Dmitriy\\AppData\\Local\\Programs\\Python\\Python310\\lib\\site-packages\\matplotlib\\axes\\_axes.py:2373\u001b[0m, in \u001b[0;36mAxes.bar\u001b[1;34m(self, x, height, width, bottom, align, **kwargs)\u001b[0m\n\u001b[0;32m   2371\u001b[0m x0 \u001b[39m=\u001b[39m x\n\u001b[0;32m   2372\u001b[0m x \u001b[39m=\u001b[39m np\u001b[39m.\u001b[39masarray(\u001b[39mself\u001b[39m\u001b[39m.\u001b[39mconvert_xunits(x))\n\u001b[1;32m-> 2373\u001b[0m width \u001b[39m=\u001b[39m \u001b[39mself\u001b[39;49m\u001b[39m.\u001b[39;49m_convert_dx(width, x0, x, \u001b[39mself\u001b[39;49m\u001b[39m.\u001b[39;49mconvert_xunits)\n\u001b[0;32m   2374\u001b[0m \u001b[39mif\u001b[39;00m xerr \u001b[39mis\u001b[39;00m \u001b[39mnot\u001b[39;00m \u001b[39mNone\u001b[39;00m:\n\u001b[0;32m   2375\u001b[0m     xerr \u001b[39m=\u001b[39m \u001b[39mself\u001b[39m\u001b[39m.\u001b[39m_convert_dx(xerr, x0, x, \u001b[39mself\u001b[39m\u001b[39m.\u001b[39mconvert_xunits)\n",
      "File \u001b[1;32mc:\\Users\\Dmitriy\\AppData\\Local\\Programs\\Python\\Python310\\lib\\site-packages\\matplotlib\\axes\\_axes.py:2182\u001b[0m, in \u001b[0;36mAxes._convert_dx\u001b[1;34m(dx, x0, xconv, convert)\u001b[0m\n\u001b[0;32m   2170\u001b[0m \u001b[39mtry\u001b[39;00m:\n\u001b[0;32m   2171\u001b[0m     \u001b[39m# attempt to add the width to x0; this works for\u001b[39;00m\n\u001b[0;32m   2172\u001b[0m     \u001b[39m# datetime+timedelta, for instance\u001b[39;00m\n\u001b[1;32m   (...)\u001b[0m\n\u001b[0;32m   2179\u001b[0m     \u001b[39m# removes the units from unit packages like `pint` that\u001b[39;00m\n\u001b[0;32m   2180\u001b[0m     \u001b[39m# wrap numpy arrays.\u001b[39;00m\n\u001b[0;32m   2181\u001b[0m     \u001b[39mtry\u001b[39;00m:\n\u001b[1;32m-> 2182\u001b[0m         x0 \u001b[39m=\u001b[39m cbook\u001b[39m.\u001b[39;49m_safe_first_finite(x0)\n\u001b[0;32m   2183\u001b[0m     \u001b[39mexcept\u001b[39;00m (\u001b[39mTypeError\u001b[39;00m, \u001b[39mIndexError\u001b[39;00m, \u001b[39mKeyError\u001b[39;00m):\n\u001b[0;32m   2184\u001b[0m         \u001b[39mpass\u001b[39;00m\n",
      "File \u001b[1;32mc:\\Users\\Dmitriy\\AppData\\Local\\Programs\\Python\\Python310\\lib\\site-packages\\matplotlib\\cbook\\__init__.py:1749\u001b[0m, in \u001b[0;36m_safe_first_finite\u001b[1;34m(obj, skip_nonfinite)\u001b[0m\n\u001b[0;32m   1746\u001b[0m     \u001b[39mraise\u001b[39;00m \u001b[39mRuntimeError\u001b[39;00m(\u001b[39m\"\u001b[39m\u001b[39mmatplotlib does not \u001b[39m\u001b[39m\"\u001b[39m\n\u001b[0;32m   1747\u001b[0m                        \u001b[39m\"\u001b[39m\u001b[39msupport generators as input\u001b[39m\u001b[39m\"\u001b[39m)\n\u001b[0;32m   1748\u001b[0m \u001b[39melse\u001b[39;00m:\n\u001b[1;32m-> 1749\u001b[0m     \u001b[39mreturn\u001b[39;00m \u001b[39mnext\u001b[39;49m(val \u001b[39mfor\u001b[39;49;00m val \u001b[39min\u001b[39;49;00m obj \u001b[39mif\u001b[39;49;00m safe_isfinite(val))\n",
      "\u001b[1;31mStopIteration\u001b[0m: "
     ]
    },
    {
     "data": {
      "image/png": "[encoded data removed]",
      "text/plain": [
       "<Figure size 720x288 with 1 Axes>"
      ]
     },
     "metadata": {
      "needs_background": "light"
     },
     "output_type": "display_data"
    }
   ],
   "source": [
    "fig = plt.figure(figsize=(10, 4))\n",
    "histplot = sns.histplot(cleaned['mkad_km'], bins=30)\n",
    "histplot.set_title('Sqrt Kremlin Km Distribution');"
   ]
  },
  {
   "cell_type": "markdown",
   "id": "bd5d81b0",
   "metadata": {},
   "source": [
    "Итак, метод z-отклонения нашел нам 33 потенциальных выброса по признаку расстояния до МКАД. Узнаем, в каких районах (sub_area) представлены эти квартиры:"
   ]
  },
  {
   "cell_type": "code",
   "execution_count": null,
   "id": "024d8575",
   "metadata": {},
   "outputs": [
    {
     "name": "stdout",
     "output_type": "stream",
     "text": [
      "['Poselenie Rogovskoe' 'Poselenie Kievskij']\n"
     ]
    }
   ],
   "source": [
    "print(outliers['sub_area'].unique())"
   ]
  },
  {
   "cell_type": "markdown",
   "id": "294cd3f4",
   "metadata": {},
   "source": [
    "Наши потенциальные выбросы — это квартиры из поселений «Роговское» и «Киевский». Снова обращаемся к силе интернета и «пробиваем» наших подозреваемых. Эти поселения — самые удалённые районы Московской области; первое из них — это и вовсе граница с Калужской областью. \n",
    "\n",
    "И тут возникает закономерный вопрос: а стоит ли считать такие наблюдения за выбросы? \n",
    "\n",
    "Вопрос в действительности не имеет определенного ответа: с одной стороны, метод прямо-таки говорит нам об этом, а с другой — эти наблюдения имеют право на существование, ведь они являются частью Московской области."
   ]
  },
  {
   "cell_type": "markdown",
   "id": "fa12901e",
   "metadata": {},
   "source": [
    "Возможно, мы не учли того факта, что наш логарифм распределения всё-таки не идеально нормален и в нём присутствует некоторая асимметрия. Возможно, стоит дать некоторое «послабление» на границы интервалов? Давайте отдельно построим гистограмму прологарифмированного распределения, а также отобразим на гистограмме вертикальные линии, соответствующие среднему (центру интервала в методе трёх сигм) и границы интервала "
   ]
  },
  {
   "cell_type": "code",
   "execution_count": 29,
   "id": "aeda8d23-474c-4974-a166-af38d42e9b66",
   "metadata": {},
   "outputs": [
    {
     "ename": "StopIteration",
     "evalue": "",
     "output_type": "error",
     "traceback": [
      "\u001b[1;31m---------------------------------------------------------------------------\u001b[0m",
      "\u001b[1;31mStopIteration\u001b[0m                             Traceback (most recent call last)",
      "\u001b[1;32mc:\\SkillBox\\IDE\\DataCleaningProject\\data_cleaning_example.ipynb Ячейка 82\u001b[0m in \u001b[0;36m<cell line: 3>\u001b[1;34m()\u001b[0m\n\u001b[0;32m      <a href='vscode-notebook-cell:/c%3A/SkillBox/IDE/DataCleaningProject/data_cleaning_example.ipynb#Y144sZmlsZQ%3D%3D?line=0'>1</a>\u001b[0m fig, ax \u001b[39m=\u001b[39m plt\u001b[39m.\u001b[39msubplots(\u001b[39m1\u001b[39m, \u001b[39m1\u001b[39m, figsize\u001b[39m=\u001b[39m(\u001b[39m8\u001b[39m, \u001b[39m4\u001b[39m))\n\u001b[0;32m      <a href='vscode-notebook-cell:/c%3A/SkillBox/IDE/DataCleaningProject/data_cleaning_example.ipynb#Y144sZmlsZQ%3D%3D?line=1'>2</a>\u001b[0m log_mkad_km \u001b[39m=\u001b[39m np\u001b[39m.\u001b[39mlog(sber_data[\u001b[39m'\u001b[39m\u001b[39mmkad_km\u001b[39m\u001b[39m'\u001b[39m] \u001b[39m+\u001b[39m \u001b[39m1\u001b[39m)\n\u001b[1;32m----> <a href='vscode-notebook-cell:/c%3A/SkillBox/IDE/DataCleaningProject/data_cleaning_example.ipynb#Y144sZmlsZQ%3D%3D?line=2'>3</a>\u001b[0m histplot \u001b[39m=\u001b[39m sns\u001b[39m.\u001b[39;49mhistplot(log_mkad_km, bins\u001b[39m=\u001b[39;49m\u001b[39m30\u001b[39;49m, ax\u001b[39m=\u001b[39;49max)\n\u001b[0;32m      <a href='vscode-notebook-cell:/c%3A/SkillBox/IDE/DataCleaningProject/data_cleaning_example.ipynb#Y144sZmlsZQ%3D%3D?line=3'>4</a>\u001b[0m histplot\u001b[39m.\u001b[39maxvline(log_mkad_km\u001b[39m.\u001b[39mmean(), color\u001b[39m=\u001b[39m\u001b[39m'\u001b[39m\u001b[39mk\u001b[39m\u001b[39m'\u001b[39m, lw\u001b[39m=\u001b[39m\u001b[39m2\u001b[39m)\n\u001b[0;32m      <a href='vscode-notebook-cell:/c%3A/SkillBox/IDE/DataCleaningProject/data_cleaning_example.ipynb#Y144sZmlsZQ%3D%3D?line=4'>5</a>\u001b[0m histplot\u001b[39m.\u001b[39maxvline(log_mkad_km\u001b[39m.\u001b[39mmean() \u001b[39m+\u001b[39m \u001b[39m3\u001b[39m \u001b[39m*\u001b[39mlog_mkad_km\u001b[39m.\u001b[39mstd(), color\u001b[39m=\u001b[39m\u001b[39m'\u001b[39m\u001b[39mk\u001b[39m\u001b[39m'\u001b[39m, ls\u001b[39m=\u001b[39m\u001b[39m'\u001b[39m\u001b[39m--\u001b[39m\u001b[39m'\u001b[39m, lw\u001b[39m=\u001b[39m\u001b[39m2\u001b[39m)\n",
      "File \u001b[1;32m~\\AppData\\Roaming\\Python\\Python310\\site-packages\\seaborn\\distributions.py:1412\u001b[0m, in \u001b[0;36mhistplot\u001b[1;34m(data, x, y, hue, weights, stat, bins, binwidth, binrange, discrete, cumulative, common_bins, common_norm, multiple, element, fill, shrink, kde, kde_kws, line_kws, thresh, pthresh, pmax, cbar, cbar_ax, cbar_kws, palette, hue_order, hue_norm, color, log_scale, legend, ax, **kwargs)\u001b[0m\n\u001b[0;32m   1410\u001b[0m     \u001b[39melse\u001b[39;00m:\n\u001b[0;32m   1411\u001b[0m         method \u001b[39m=\u001b[39m ax\u001b[39m.\u001b[39mplot\n\u001b[1;32m-> 1412\u001b[0m     color \u001b[39m=\u001b[39m _default_color(method, hue, color, kwargs)\n\u001b[0;32m   1414\u001b[0m \u001b[39mif\u001b[39;00m \u001b[39mnot\u001b[39;00m p\u001b[39m.\u001b[39mhas_xy_data:\n\u001b[0;32m   1415\u001b[0m     \u001b[39mreturn\u001b[39;00m ax\n",
      "File \u001b[1;32m~\\AppData\\Roaming\\Python\\Python310\\site-packages\\seaborn\\utils.py:140\u001b[0m, in \u001b[0;36m_default_color\u001b[1;34m(method, hue, color, kws)\u001b[0m\n\u001b[0;32m    135\u001b[0m     scout\u001b[39m.\u001b[39mremove()\n\u001b[0;32m    137\u001b[0m \u001b[39melif\u001b[39;00m method\u001b[39m.\u001b[39m\u001b[39m__name__\u001b[39m \u001b[39m==\u001b[39m \u001b[39m\"\u001b[39m\u001b[39mbar\u001b[39m\u001b[39m\"\u001b[39m:\n\u001b[0;32m    138\u001b[0m \n\u001b[0;32m    139\u001b[0m     \u001b[39m# bar() needs masked, not empty data, to generate a patch\u001b[39;00m\n\u001b[1;32m--> 140\u001b[0m     scout, \u001b[39m=\u001b[39m method([np\u001b[39m.\u001b[39mnan], [np\u001b[39m.\u001b[39mnan], \u001b[39m*\u001b[39m\u001b[39m*\u001b[39mkws)\n\u001b[0;32m    141\u001b[0m     color \u001b[39m=\u001b[39m to_rgb(scout\u001b[39m.\u001b[39mget_facecolor())\n\u001b[0;32m    142\u001b[0m     scout\u001b[39m.\u001b[39mremove()\n",
      "File \u001b[1;32mc:\\Users\\Dmitriy\\AppData\\Local\\Programs\\Python\\Python310\\lib\\site-packages\\matplotlib\\__init__.py:1423\u001b[0m, in \u001b[0;36m_preprocess_data.<locals>.inner\u001b[1;34m(ax, data, *args, **kwargs)\u001b[0m\n\u001b[0;32m   1420\u001b[0m \u001b[39m@functools\u001b[39m\u001b[39m.\u001b[39mwraps(func)\n\u001b[0;32m   1421\u001b[0m \u001b[39mdef\u001b[39;00m \u001b[39minner\u001b[39m(ax, \u001b[39m*\u001b[39margs, data\u001b[39m=\u001b[39m\u001b[39mNone\u001b[39;00m, \u001b[39m*\u001b[39m\u001b[39m*\u001b[39mkwargs):\n\u001b[0;32m   1422\u001b[0m     \u001b[39mif\u001b[39;00m data \u001b[39mis\u001b[39;00m \u001b[39mNone\u001b[39;00m:\n\u001b[1;32m-> 1423\u001b[0m         \u001b[39mreturn\u001b[39;00m func(ax, \u001b[39m*\u001b[39m\u001b[39mmap\u001b[39m(sanitize_sequence, args), \u001b[39m*\u001b[39m\u001b[39m*\u001b[39mkwargs)\n\u001b[0;32m   1425\u001b[0m     bound \u001b[39m=\u001b[39m new_sig\u001b[39m.\u001b[39mbind(ax, \u001b[39m*\u001b[39margs, \u001b[39m*\u001b[39m\u001b[39m*\u001b[39mkwargs)\n\u001b[0;32m   1426\u001b[0m     auto_label \u001b[39m=\u001b[39m (bound\u001b[39m.\u001b[39marguments\u001b[39m.\u001b[39mget(label_namer)\n\u001b[0;32m   1427\u001b[0m                   \u001b[39mor\u001b[39;00m bound\u001b[39m.\u001b[39mkwargs\u001b[39m.\u001b[39mget(label_namer))\n",
      "File \u001b[1;32mc:\\Users\\Dmitriy\\AppData\\Local\\Programs\\Python\\Python310\\lib\\site-packages\\matplotlib\\axes\\_axes.py:2373\u001b[0m, in \u001b[0;36mAxes.bar\u001b[1;34m(self, x, height, width, bottom, align, **kwargs)\u001b[0m\n\u001b[0;32m   2371\u001b[0m x0 \u001b[39m=\u001b[39m x\n\u001b[0;32m   2372\u001b[0m x \u001b[39m=\u001b[39m np\u001b[39m.\u001b[39masarray(\u001b[39mself\u001b[39m\u001b[39m.\u001b[39mconvert_xunits(x))\n\u001b[1;32m-> 2373\u001b[0m width \u001b[39m=\u001b[39m \u001b[39mself\u001b[39;49m\u001b[39m.\u001b[39;49m_convert_dx(width, x0, x, \u001b[39mself\u001b[39;49m\u001b[39m.\u001b[39;49mconvert_xunits)\n\u001b[0;32m   2374\u001b[0m \u001b[39mif\u001b[39;00m xerr \u001b[39mis\u001b[39;00m \u001b[39mnot\u001b[39;00m \u001b[39mNone\u001b[39;00m:\n\u001b[0;32m   2375\u001b[0m     xerr \u001b[39m=\u001b[39m \u001b[39mself\u001b[39m\u001b[39m.\u001b[39m_convert_dx(xerr, x0, x, \u001b[39mself\u001b[39m\u001b[39m.\u001b[39mconvert_xunits)\n",
      "File \u001b[1;32mc:\\Users\\Dmitriy\\AppData\\Local\\Programs\\Python\\Python310\\lib\\site-packages\\matplotlib\\axes\\_axes.py:2182\u001b[0m, in \u001b[0;36mAxes._convert_dx\u001b[1;34m(dx, x0, xconv, convert)\u001b[0m\n\u001b[0;32m   2170\u001b[0m \u001b[39mtry\u001b[39;00m:\n\u001b[0;32m   2171\u001b[0m     \u001b[39m# attempt to add the width to x0; this works for\u001b[39;00m\n\u001b[0;32m   2172\u001b[0m     \u001b[39m# datetime+timedelta, for instance\u001b[39;00m\n\u001b[1;32m   (...)\u001b[0m\n\u001b[0;32m   2179\u001b[0m     \u001b[39m# removes the units from unit packages like `pint` that\u001b[39;00m\n\u001b[0;32m   2180\u001b[0m     \u001b[39m# wrap numpy arrays.\u001b[39;00m\n\u001b[0;32m   2181\u001b[0m     \u001b[39mtry\u001b[39;00m:\n\u001b[1;32m-> 2182\u001b[0m         x0 \u001b[39m=\u001b[39m cbook\u001b[39m.\u001b[39;49m_safe_first_finite(x0)\n\u001b[0;32m   2183\u001b[0m     \u001b[39mexcept\u001b[39;00m (\u001b[39mTypeError\u001b[39;00m, \u001b[39mIndexError\u001b[39;00m, \u001b[39mKeyError\u001b[39;00m):\n\u001b[0;32m   2184\u001b[0m         \u001b[39mpass\u001b[39;00m\n",
      "File \u001b[1;32mc:\\Users\\Dmitriy\\AppData\\Local\\Programs\\Python\\Python310\\lib\\site-packages\\matplotlib\\cbook\\__init__.py:1749\u001b[0m, in \u001b[0;36m_safe_first_finite\u001b[1;34m(obj, skip_nonfinite)\u001b[0m\n\u001b[0;32m   1746\u001b[0m     \u001b[39mraise\u001b[39;00m \u001b[39mRuntimeError\u001b[39;00m(\u001b[39m\"\u001b[39m\u001b[39mmatplotlib does not \u001b[39m\u001b[39m\"\u001b[39m\n\u001b[0;32m   1747\u001b[0m                        \u001b[39m\"\u001b[39m\u001b[39msupport generators as input\u001b[39m\u001b[39m\"\u001b[39m)\n\u001b[0;32m   1748\u001b[0m \u001b[39melse\u001b[39;00m:\n\u001b[1;32m-> 1749\u001b[0m     \u001b[39mreturn\u001b[39;00m \u001b[39mnext\u001b[39;49m(val \u001b[39mfor\u001b[39;49;00m val \u001b[39min\u001b[39;49;00m obj \u001b[39mif\u001b[39;49;00m safe_isfinite(val))\n",
      "\u001b[1;31mStopIteration\u001b[0m: "
     ]
    },
    {
     "data": {
      "image/png": "[encoded data removed]",
      "text/plain": [
       "<Figure size 576x288 with 1 Axes>"
      ]
     },
     "metadata": {
      "needs_background": "light"
     },
     "output_type": "display_data"
    }
   ],
   "source": [
    "fig, ax = plt.subplots(1, 1, figsize=(8, 4))\n",
    "log_mkad_km = np.log(sber_data['mkad_km'] + 1)\n",
    "histplot = sns.histplot(log_mkad_km, bins=30, ax=ax)\n",
    "histplot.axvline(log_mkad_km.mean(), color='k', lw=2)\n",
    "histplot.axvline(log_mkad_km.mean() + 3 *log_mkad_km.std(), color='k', ls='--', lw=2)\n",
    "histplot.axvline(log_mkad_km.mean() - 3 *log_mkad_km.std(), color='k', ls='--', lw=2)\n",
    "histplot.set_title('Log MKAD Km Distribution');"
   ]
  },
  {
   "cell_type": "markdown",
   "id": "6705e6b9",
   "metadata": {},
   "source": [
    "Ассиметрия распределения является левой. В этом можно убедиться, вычислив коэффициент ассиметрии:"
   ]
  },
  {
   "cell_type": "code",
   "execution_count": null,
   "id": "ab90819f",
   "metadata": {},
   "outputs": [
    {
     "name": "stdout",
     "output_type": "stream",
     "text": [
      "-0.14263612203024953\n"
     ]
    }
   ],
   "source": [
    "print(log_mkad_km.skew())"
   ]
  },
  {
   "cell_type": "markdown",
   "id": "1e5940b7",
   "metadata": {},
   "source": [
    "Из графика видно, что из-за левой ассиметриии 3ех сигм не достаточно, чтобы покрыть весь интервал. Увеличим значения границ:"
   ]
  },
  {
   "cell_type": "code",
   "execution_count": null,
   "id": "cc4b5c02",
   "metadata": {},
   "outputs": [
    {
     "name": "stdout",
     "output_type": "stream",
     "text": [
      "Число выбросов по методу z-отклонения: 0\n",
      "Результирующее число записей: 30471\n"
     ]
    }
   ],
   "source": [
    "outliers, cleaned = find_outliers_z_score(sber_data, 'mkad_km', log_scale=True, right=3.5)\n",
    "print(f'Число выбросов по методу z-отклонения: {outliers.shape[0]}')\n",
    "print(f'Результирующее число записей: {cleaned.shape[0]}')"
   ]
  },
  {
   "cell_type": "markdown",
   "id": "859b3bea",
   "metadata": {},
   "source": [
    "Стоило нам немного увеличить правую границу метода z-отклонений, как мы получили отсутствие выбросов в признаке."
   ]
  },
  {
   "cell_type": "markdown",
   "id": "bc2c54f4",
   "metadata": {},
   "source": [
    "### Поиск и ликвидация дубликатов"
   ]
  },
  {
   "cell_type": "markdown",
   "id": "d32f4147",
   "metadata": {},
   "source": [
    "Способ обнаружения дубликатов зависит от того, что именно вы считаете дубликатом. Например, за дубликаты можно посчитать записи, у которых совпадают все признаки или их часть. Если в таблице есть столбец с уникальным идентификатором (id), вы можете попробовать поискать дубликаты по нему: одинаковые записи могут иметь одинаковый id.\n",
    "\n",
    "Проверим, есть у нас такие записи: для этого сравним число уникальных значений в столбце id с числом строк. Число уникальных значений вычислим с помощью метода nunique():"
   ]
  },
  {
   "cell_type": "code",
   "execution_count": null,
   "id": "01146244-586f-4033-8498-ce7a79d08888",
   "metadata": {},
   "outputs": [
    {
     "data": {
      "text/plain": [
       "True"
      ]
     },
     "execution_count": 41,
     "metadata": {},
     "output_type": "execute_result"
    }
   ],
   "source": [
    "sber_data['id'].nunique() == sber_data.shape[0]"
   ]
  },
  {
   "cell_type": "markdown",
   "id": "9330a309",
   "metadata": {},
   "source": [
    "Вроде бы всё в порядке: каждой записи в таблице соответствует свой уникальный идентификатор. Но это ещё не означает, что в таблице нет дубликатов!"
   ]
  },
  {
   "cell_type": "markdown",
   "id": "dcd32c3c",
   "metadata": {},
   "source": [
    "Столбец с id задаёт каждой строке свой уникальный номер, поэтому сама по себе каждая строка является уникальной. Однако содержимое других столбцов может повторяться."
   ]
  },
  {
   "cell_type": "markdown",
   "id": "ec762d2c",
   "metadata": {},
   "source": [
    " Найдём число полных дубликатов таблице sber_data. Предварительно создадим список столбцов dupl_columns, по которым будем искать совпадения (все столбцы, не включая id). "
   ]
  },
  {
   "cell_type": "code",
   "execution_count": null,
   "id": "81c068e6",
   "metadata": {},
   "outputs": [
    {
     "name": "stdout",
     "output_type": "stream",
     "text": [
      "Число найденных дубликатов: 562\n"
     ]
    }
   ],
   "source": [
    "dupl_columns = list(sber_data.columns)\n",
    "dupl_columns.remove('id')\n",
    "\n",
    "mask = sber_data.duplicated(subset=dupl_columns)\n",
    "sber_duplicates = sber_data[mask]\n",
    "print(f'Число найденных дубликатов: {sber_duplicates.shape[0]}')"
   ]
  },
  {
   "cell_type": "markdown",
   "id": "98fd9e1c",
   "metadata": {},
   "source": [
    "Итак, 562 строки в таблице являются полными копиями других записей. Теперь нам необходимо от них избавиться."
   ]
  },
  {
   "cell_type": "code",
   "execution_count": null,
   "id": "4710eed0",
   "metadata": {},
   "outputs": [
    {
     "name": "stdout",
     "output_type": "stream",
     "text": [
      "Результирующее число записей: 29909\n"
     ]
    }
   ],
   "source": [
    "sber_dedupped = sber_data.drop_duplicates(subset=dupl_columns)\n",
    "print(f'Результирующее число записей: {sber_dedupped.shape[0]}')"
   ]
  },
  {
   "cell_type": "code",
   "execution_count": 28,
   "id": "c6c09d70",
   "metadata": {},
   "outputs": [
    {
     "name": "stdout",
     "output_type": "stream",
     "text": [
      "Число выбросов: 598\n",
      "Результирующее число записей: 29851\n"
     ]
    }
   ],
   "source": [
    "from outliers_lib.find_outliers import find_outliers_quantile\n",
    "\n",
    "outliers, cleaned = find_outliers_quantile(sber_data, 'mkad_km')\n",
    "print(f'Число выбросов: {outliers.shape[0]}')\n",
    "print(f'Результирующее число записей: {cleaned.shape[0]}')"
   ]
  }
 ],
 "metadata": {
  "kernelspec": {
   "display_name": "Python 3.10.0 64-bit",
   "language": "python",
   "name": "python3"
  },
  "language_info": {
   "codemirror_mode": {
    "name": "ipython",
    "version": 3
   },
   "file_extension": ".py",
   "mimetype": "text/x-python",
   "name": "python",
   "nbconvert_exporter": "python",
   "pygments_lexer": "ipython3",
   "version": "3.10.0"
  },
  "vscode": {
   "interpreter": {
    "hash": "3b86bb4a7c67948f28b40856a4a20f412ff81a4b6377c11c191c16516b072e2a"
   }
  }
 },
 "nbformat": 4,
 "nbformat_minor": 5
}
